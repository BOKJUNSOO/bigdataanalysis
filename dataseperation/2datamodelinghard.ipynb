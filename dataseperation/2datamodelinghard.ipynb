{
 "cells": [
  {
   "cell_type": "code",
   "execution_count": 1,
   "metadata": {},
   "outputs": [
    {
     "name": "stdout",
     "output_type": "stream",
     "text": [
      "0     manual\n",
      "1     manual\n",
      "2     manual\n",
      "3       auto\n",
      "4       auto\n",
      "5       auto\n",
      "6       auto\n",
      "7       auto\n",
      "8       auto\n",
      "9       auto\n",
      "10      auto\n",
      "11      auto\n",
      "12      auto\n",
      "13      auto\n",
      "14      auto\n",
      "15      auto\n",
      "16      auto\n",
      "17    manual\n",
      "18    manual\n",
      "19    manual\n",
      "20      auto\n",
      "21      auto\n",
      "22      auto\n",
      "23      auto\n",
      "24      auto\n",
      "25    manual\n",
      "26    manual\n",
      "27    manual\n",
      "28    manual\n",
      "29    manual\n",
      "30    manual\n",
      "31    manual\n",
      "Name: am, dtype: object\n",
      "   cyl   disp   hp  drat     wt  vs      am gear  carb  wt_class  qsec_4  \\\n",
      "0  6.0  160.0  110  3.90  2.620   0  manual    4     4       0.0   65.84   \n",
      "1  6.0  160.0  110  3.90  2.875   0  manual    4     4       0.0   68.08   \n",
      "2  4.0  108.0   93  3.85  2.320   1  manual    4     1       0.0   74.44   \n",
      "3  6.0  258.0  110  3.08  3.215   1    auto    3     1       0.0    0.40   \n",
      "4  8.0  360.0  175  3.15  3.440   0    auto    3     2       1.0   68.08   \n",
      "\n",
      "   am_new  \n",
      "0       0  \n",
      "1       0  \n",
      "2       0  \n",
      "3       1  \n",
      "4       1  \n"
     ]
    },
    {
     "name": "stderr",
     "output_type": "stream",
     "text": [
      "C:\\Users\\brian\\AppData\\Local\\Temp\\ipykernel_17160\\2803191384.py:31: FutureWarning: Downcasting behavior in `replace` is deprecated and will be removed in a future version. To retain the old behavior, explicitly call `result.infer_objects(copy=False)`. To opt-in to the future behavior, set `pd.set_option('future.no_silent_downcasting', True)`\n",
      "  X['am_new'] = X['am'].replace('manual',0).replace('auto',1)\n"
     ]
    }
   ],
   "source": [
    "import pandas as pd\n",
    "df = pd.read_csv(r\"C:\\Users\\brian\\OneDrive\\Desktop\\JUNSOO\\bigdata\\data\\mtcars.csv\")\n",
    "\n",
    "X = df.drop(columns = 'mpg')\n",
    "Y = df['mpg']\n",
    "X = X.iloc[:,1:]\n",
    "\n",
    "condition = X['wt'] < 3.3\n",
    "X.loc[condition, 'wt_class'] = 0\n",
    "X.loc[~condition, 'wt_class'] = 1\n",
    "X['qsec_4'] = X['qsec'] * 4\n",
    "X = X.drop(columns = 'qsec')\n",
    "\n",
    "#원핫 인코딩 범주형(object) 데이터 ==> 수치형 데이터 !\n",
    "\n",
    "\n",
    "#print(X['am'].unique())\n",
    "#print(pd.get_dummies(X['am'], drop_first = True))\n",
    "\n",
    "# sklearn preprocessing labelEncoder (*라벨 인코딩 - > 범주형변수를 연속형 변수로 라벨링?)\n",
    "#print(X['am']\n",
    "#      .head())\n",
    "from sklearn.preprocessing import LabelEncoder\n",
    "encoder = LabelEncoder()\n",
    "\n",
    "# encoder를 통해 am 열 값에 대해 라벨 인코딩 수행하기\n",
    "am_class = encoder.fit_transform(X['am'])\n",
    "print(X['am'])\n",
    "\n",
    "# replace 를 통해 am 열에서 manual 은 0 으로, auto는 1로 변경하고 새로운 am_new 열 저장하기\n",
    "X['am_new'] = X['am'].replace('manual',0).replace('auto',1)\n",
    "print(X.head())\n",
    "\n",
    "X = X.drop(columns = 'am')\n",
    "from sklearn.model_selection import train_test_split\n",
    "x_train, x_test, y_train, y_test = train_test_split(\n",
    "    X, Y, test_size = 0.3 \n",
    "    , random_state = 10)"
   ]
  },
  {
   "cell_type": "code",
   "execution_count": null,
   "metadata": {},
   "outputs": [],
   "source": [
    "#print(X\n",
    "#      .isnull()\n",
    "#     .sum())\n",
    "X_cyl_mean = X['cyl'].mean()\n",
    "X['cyl'] = (X['cyl']\n",
    "            .fillna(X_cyl_mean)\n",
    ")\n",
    "#print(X\n",
    "#      .isnull()\n",
    "#      .sum())\n",
    "\n",
    "X_qsec4_median = (X['qsec_4']\n",
    "                  .median())\n",
    "X['qsec_4'] = (X['qsec_4']\n",
    "               .fillna(X_qsec4_median))\n",
    "print(X\n",
    "      .isnull()\n",
    "      .sum())\n"
   ]
  },
  {
   "cell_type": "code",
   "execution_count": 24,
   "metadata": {},
   "outputs": [
    {
     "name": "stdout",
     "output_type": "stream",
     "text": [
      "['4' '3' '5']\n"
     ]
    }
   ],
   "source": [
    "#print(X['gear']\n",
    "#      .unique())\n",
    "X['gear'] = X['gear'].replace('*3','3').replace('*5','5')\n",
    "print(X['gear']\n",
    "      .unique())"
   ]
  },
  {
   "cell_type": "code",
   "execution_count": null,
   "metadata": {},
   "outputs": [],
   "source": [
    "# 선형회귀 모델\n",
    "from sklearn.linear_model import LinearRegression\n",
    "model = LinearRegression()\n",
    "model.fit(x_train, y_train) #string data 로 true false 다시 정제할것!!!(6/4 17:36~)\n",
    "y_train_pre = model.predict(x_train)\n",
    "y_train_pre = model.predict(x_test)"
   ]
  },
  {
   "cell_type": "code",
   "execution_count": null,
   "metadata": {},
   "outputs": [],
   "source": []
  }
 ],
 "metadata": {
  "kernelspec": {
   "display_name": "Python 3",
   "language": "python",
   "name": "python3"
  },
  "language_info": {
   "codemirror_mode": {
    "name": "ipython",
    "version": 3
   },
   "file_extension": ".py",
   "mimetype": "text/x-python",
   "name": "python",
   "nbconvert_exporter": "python",
   "pygments_lexer": "ipython3",
   "version": "3.11.9"
  }
 },
 "nbformat": 4,
 "nbformat_minor": 2
}
