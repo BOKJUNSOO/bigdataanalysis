{
 "cells": [
  {
   "cell_type": "code",
   "execution_count": null,
   "metadata": {},
   "outputs": [],
   "source": [
    "# UnicodeDecodeError: 'utf-8' codec can't decode byte 0xc0 in position 0: invalid start byte\n",
    "# 에러 해결 encoding='cp949' pd.read_csv 파라미터에 포함.ㅎ\n",
    "\n",
    "import pandas as pd\n",
    "df = pd.read_csv(r\"C:\\Users\\brian\\OneDrive\\Desktop\\JUNSOO\\bigdata\\data\\mtcars.csv\")\n",
    "\n",
    "X = df.drop(columns = 'mpg')\n",
    "Y = df['mpg']\n",
    "X = X.iloc[:,1:]\n",
    "\n",
    "condition = X['wt'] < 3.3\n",
    "X.loc[condition, 'wt_class'] = 0\n",
    "X.loc[~condition, 'wt_class'] = 1\n",
    "X['qsec_4'] = X['qsec'] * 4\n",
    "X = X.drop(columns = 'qsec')\n",
    "print(X[['wt', 'wt_class']])"
   ]
  },
  {
   "cell_type": "code",
   "execution_count": null,
   "metadata": {},
   "outputs": [],
   "source": [
    "#라벨인코딩"
   ]
  },
  {
   "cell_type": "code",
   "execution_count": 2,
   "metadata": {},
   "outputs": [],
   "source": [
    "#데이터 분리를 위해 train_test_split 함수 가져오기\n",
    "from sklearn.model_selection import train_test_split\n",
    "x_train, x_test, y_train, y_test = train_test_split(\n",
    "    X, Y, test_size = 0.3  #테스트 데이터는 30%로 분리\n",
    "    , random_state = 10)    # 기본적으로 들어가는 변수는 3가지 \"순서\"가 중요함 \n",
    "                            # 독립변수X 변수, 종속변수 Y변수, 테스트 데이터로 분리할 비율"
   ]
  },
  {
   "cell_type": "code",
   "execution_count": null,
   "metadata": {},
   "outputs": [],
   "source": [
    "#분리시킨 데이터 확인\n",
    "print(x_train.head())\n",
    "print(y_train.head())\n",
    "print(x_test.head())\n",
    "print(y_test.head())"
   ]
  },
  {
   "cell_type": "code",
   "execution_count": null,
   "metadata": {},
   "outputs": [],
   "source": []
  }
 ],
 "metadata": {
  "kernelspec": {
   "display_name": "Python 3",
   "language": "python",
   "name": "python3"
  },
  "language_info": {
   "codemirror_mode": {
    "name": "ipython",
    "version": 3
   },
   "file_extension": ".py",
   "mimetype": "text/x-python",
   "name": "python",
   "nbconvert_exporter": "python",
   "pygments_lexer": "ipython3",
   "version": "3.11.9"
  }
 },
 "nbformat": 4,
 "nbformat_minor": 2
}
