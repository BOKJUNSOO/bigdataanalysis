{
 "cells": [
  {
   "cell_type": "code",
   "execution_count": 2,
   "metadata": {},
   "outputs": [],
   "source": [
    "import pandas as pd\n",
    "df = pd.read_csv(r\"C:\\Users\\brian\\OneDrive\\Desktop\\JUNSOO\\bigdata\\data\\mtcars.csv\")"
   ]
  },
  {
   "cell_type": "code",
   "execution_count": 3,
   "metadata": {},
   "outputs": [],
   "source": [
    "X = df.drop(columns = 'mpg')\n",
    "Y = df['mpg']\n",
    "X = df.iloc[:,1:]"
   ]
  },
  {
   "cell_type": "code",
   "execution_count": null,
   "metadata": {},
   "outputs": [],
   "source": [
    "# 싸이킷런 데이터 스케일링\n",
    "# https://jimmy-ai.tistory.com/139\n",
    "from sklearn.preprocessing import StandardScaler\n",
    "temp = X[['qsec']]\n",
    "scaler = StandardScaler()\n",
    "#print(scaler.fit_transform(temp))\n",
    "qsec_s_scaler = (pd.\n",
    "                DataFrame(scaler\n",
    "                          .fit_transform(temp))\n",
    "                )\n",
    "print(qsec_s_scaler)\n",
    "#sum(qsec_s_scaler)=0 , standard ~ mean = 0"
   ]
  }
 ],
 "metadata": {
  "kernelspec": {
   "display_name": "Python 3",
   "language": "python",
   "name": "python3"
  },
  "language_info": {
   "codemirror_mode": {
    "name": "ipython",
    "version": 3
   },
   "file_extension": ".py",
   "mimetype": "text/x-python",
   "name": "python",
   "nbconvert_exporter": "python",
   "pygments_lexer": "ipython3",
   "version": "3.12.3"
  }
 },
 "nbformat": 4,
 "nbformat_minor": 2
}
