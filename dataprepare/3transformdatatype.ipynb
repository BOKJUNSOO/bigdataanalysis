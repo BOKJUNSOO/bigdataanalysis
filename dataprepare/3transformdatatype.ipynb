{
 "cells": [
  {
   "cell_type": "code",
   "execution_count": 2,
   "metadata": {},
   "outputs": [],
   "source": [
    "import pandas as pd\n",
    "df = pd.read_csv(r\"C:\\Users\\brian\\OneDrive\\Desktop\\JUNSOO\\bigdata\\data\\mtcars.csv\")"
   ]
  },
  {
   "cell_type": "code",
   "execution_count": 3,
   "metadata": {},
   "outputs": [
    {
     "name": "stdout",
     "output_type": "stream",
     "text": [
      "          Unnamed: 0  cyl   disp   hp  drat     wt   qsec  vs      am gear  \\\n",
      "0          Mazda RX4  6.0  160.0  110  3.90  2.620  16.46   0  manual    4   \n",
      "1      Mazda RX4 Wag  6.0  160.0  110  3.90  2.875  17.02   0  manual    4   \n",
      "2         Datsun 710  4.0  108.0   93  3.85  2.320  18.61   1  manual    4   \n",
      "3     Hornet 4 Drive  6.0  258.0  110  3.08  3.215   0.10   1    auto    3   \n",
      "4  Hornet Sportabout  8.0  360.0  175  3.15  3.440  17.02   0    auto    3   \n",
      "\n",
      "   carb  \n",
      "0     4  \n",
      "1     4  \n",
      "2     1  \n",
      "3     1  \n",
      "4     2  \n",
      "   cyl   disp   hp  drat     wt   qsec  vs      am gear  carb\n",
      "0  6.0  160.0  110  3.90  2.620  16.46   0  manual    4     4\n",
      "1  6.0  160.0  110  3.90  2.875  17.02   0  manual    4     4\n",
      "2  4.0  108.0   93  3.85  2.320  18.61   1  manual    4     1\n",
      "3  6.0  258.0  110  3.08  3.215   0.10   1    auto    3     1\n",
      "4  8.0  360.0  175  3.15  3.440  17.02   0    auto    3     2\n"
     ]
    }
   ],
   "source": [
    "X = df.drop(columns = 'mpg')\n",
    "Y = df['mpg']\n",
    "print(X.head())\n",
    "X = X.iloc[:,1:] # X 룰 새로정의 한 것에 대해서 특정\n",
    "                 # df.iloc 하면 처음 데이터 프레임에 대해 특정\n",
    "print(X.head())"
   ]
  },
  {
   "cell_type": "code",
   "execution_count": 4,
   "metadata": {},
   "outputs": [
    {
     "name": "stdout",
     "output_type": "stream",
     "text": [
      "   cyl   disp   hp  drat     wt   qsec  vs      am gear  carb\n",
      "0  6.0  160.0  110  3.90  2.620  16.46   0  manual    4     4\n",
      "1  6.0  160.0  110  3.90  2.875  17.02   0  manual    4     4\n",
      "2  4.0  108.0   93  3.85  2.320  18.61   1  manual    4     1\n",
      "3  6.0  258.0  110  3.08  3.215   0.10   1    auto    3     1\n",
      "4  8.0  360.0  175  3.15  3.440  17.02   0    auto    3     2\n",
      "['manual' 'auto']\n",
      "     auto  manual\n",
      "0   False    True\n",
      "1   False    True\n",
      "2   False    True\n",
      "3    True   False\n",
      "4    True   False\n",
      "5    True   False\n",
      "6    True   False\n",
      "7    True   False\n",
      "8    True   False\n",
      "9    True   False\n",
      "10   True   False\n",
      "11   True   False\n",
      "12   True   False\n",
      "13   True   False\n",
      "14   True   False\n",
      "15   True   False\n",
      "16   True   False\n",
      "17  False    True\n",
      "18  False    True\n",
      "19  False    True\n",
      "20   True   False\n",
      "21   True   False\n",
      "22   True   False\n",
      "23   True   False\n",
      "24   True   False\n",
      "25  False    True\n",
      "26  False    True\n",
      "27  False    True\n",
      "28  False    True\n",
      "29  False    True\n",
      "30  False    True\n",
      "31  False    True\n"
     ]
    }
   ],
   "source": [
    "# <원핫인코딩>\n",
    "# get_dummies() 함수는 범주형object 데이터 인코딩\n",
    "# manual --> true, auto --> False로 인코딩 (*범주형을 수치형으로 인코딩)\n",
    "print(X.head())\n",
    "print(X['am']\n",
    "      .unique()) #am 열에서 중복 제거한 값 확인\n",
    "print(pd.get_dummies(X['am']))"
   ]
  },
  {
   "cell_type": "code",
   "execution_count": 5,
   "metadata": {},
   "outputs": [
    {
     "name": "stdout",
     "output_type": "stream",
     "text": [
      "    manual\n",
      "0     True\n",
      "1     True\n",
      "2     True\n",
      "3    False\n",
      "4    False\n",
      "5    False\n",
      "6    False\n",
      "7    False\n",
      "8    False\n",
      "9    False\n",
      "10   False\n",
      "11   False\n",
      "12   False\n",
      "13   False\n",
      "14   False\n",
      "15   False\n",
      "16   False\n",
      "17    True\n",
      "18    True\n",
      "19    True\n",
      "20   False\n",
      "21   False\n",
      "22   False\n",
      "23   False\n",
      "24   False\n",
      "25    True\n",
      "26    True\n",
      "27    True\n",
      "28    True\n",
      "29    True\n",
      "30    True\n",
      "31    True\n"
     ]
    }
   ],
   "source": [
    "# 위의 dummies 의 결과로 \n",
    "# manual => true // 그외는 false 로 확인 // 한게의 column 만 사용해서 \n",
    "# drop_first = true --> get_dummies 함수 안에 추가하는 것\n",
    "print(pd.get_dummies(X['am']\n",
    "      , drop_first = True)\n",
    "      )"
   ]
  },
  {
   "cell_type": "code",
   "execution_count": 6,
   "metadata": {},
   "outputs": [
    {
     "name": "stdout",
     "output_type": "stream",
     "text": [
      "<class 'pandas.core.frame.DataFrame'>\n",
      "RangeIndex: 32 entries, 0 to 31\n",
      "Data columns (total 10 columns):\n",
      " #   Column  Non-Null Count  Dtype  \n",
      "---  ------  --------------  -----  \n",
      " 0   cyl     30 non-null     float64\n",
      " 1   disp    32 non-null     float64\n",
      " 2   hp      32 non-null     int64  \n",
      " 3   drat    32 non-null     float64\n",
      " 4   wt      32 non-null     float64\n",
      " 5   qsec    31 non-null     float64\n",
      " 6   vs      32 non-null     int64  \n",
      " 7   am      32 non-null     object \n",
      " 8   gear    32 non-null     object \n",
      " 9   carb    32 non-null     int64  \n",
      "dtypes: float64(5), int64(3), object(2)\n",
      "memory usage: 2.6+ KB\n",
      "None\n",
      "     cyl   disp   hp  drat     wt    qsec  vs  carb  am_manual  gear_*5  \\\n",
      "0    6.0  160.0  110  3.90  2.620   16.46   0     4       True    False   \n",
      "1    6.0  160.0  110  3.90  2.875   17.02   0     4       True    False   \n",
      "2    4.0  108.0   93  3.85  2.320   18.61   1     1       True    False   \n",
      "3    6.0  258.0  110  3.08  3.215    0.10   1     1      False    False   \n",
      "4    8.0  360.0  175  3.15  3.440   17.02   0     2      False    False   \n",
      "5    6.0  225.0  105  2.76  3.460   20.22   1     1      False    False   \n",
      "6    8.0  360.0  245  3.21  3.570   15.84   0     4      False    False   \n",
      "7    NaN  146.7   62  3.69  3.190   20.00   1     2      False    False   \n",
      "8    4.0  140.8   95  3.92  3.150   22.90   1     2      False    False   \n",
      "9    6.0  167.6  123  3.92  3.440   18.30   1     4      False    False   \n",
      "10   6.0  167.6  123  3.92  3.440     NaN   1     4      False    False   \n",
      "11   8.0  275.8  180  3.07  4.070   17.40   0     3      False    False   \n",
      "12   8.0  275.8  180  3.07  3.730   17.60   0     3      False    False   \n",
      "13   8.0  275.8  180  3.07  3.780   18.00   0     3      False    False   \n",
      "14  50.0  472.0  205  2.93  5.250   17.98   0     4      False    False   \n",
      "15   8.0  460.0  215  3.00  5.424   17.82   0     4      False    False   \n",
      "16   8.0  440.0  230  3.23  5.345   17.42   0     4      False    False   \n",
      "17   4.0   78.7   66  4.08  2.200   19.47   1     1       True    False   \n",
      "18   4.0   75.7   52  4.93  1.615   18.52   1     2       True    False   \n",
      "19   4.0   71.1   65  4.22  1.835   19.90   1     1       True    False   \n",
      "20   4.0  120.1   97  3.70  2.465   20.01   1     1      False    False   \n",
      "21   8.0  318.0  150  2.76  3.520   16.87   0     2      False    False   \n",
      "22   8.0  304.0  150  3.15  3.435   17.30   0     2      False    False   \n",
      "23   8.0  350.0  245  3.73  3.840   15.41   0     4      False    False   \n",
      "24   NaN  400.0  175  3.08  3.845  100.00   0     2      False    False   \n",
      "25   4.0   79.0   66  4.08  1.935   18.90   1     1       True    False   \n",
      "26   4.0  120.3   91  4.43  2.140   16.70   0     2       True    False   \n",
      "27   4.0   95.1  113  3.77  1.513   16.90   1     2       True    False   \n",
      "28   8.0  351.0  264  4.22  3.170   14.50   0     4       True     True   \n",
      "29   6.0  145.0  175  3.62  2.770   15.50   0     6       True    False   \n",
      "30   8.0  301.0  335  3.54  3.570   14.60   0     8       True    False   \n",
      "31   4.0  121.0  109  4.11  2.780   18.60   1     2       True    False   \n",
      "\n",
      "    gear_3  gear_4  gear_5  \n",
      "0    False    True   False  \n",
      "1    False    True   False  \n",
      "2    False    True   False  \n",
      "3     True   False   False  \n",
      "4     True   False   False  \n",
      "5     True   False   False  \n",
      "6     True   False   False  \n",
      "7    False    True   False  \n",
      "8    False    True   False  \n",
      "9    False    True   False  \n",
      "10   False    True   False  \n",
      "11    True   False   False  \n",
      "12   False   False   False  \n",
      "13    True   False   False  \n",
      "14    True   False   False  \n",
      "15    True   False   False  \n",
      "16    True   False   False  \n",
      "17   False    True   False  \n",
      "18   False    True   False  \n",
      "19   False    True   False  \n",
      "20    True   False   False  \n",
      "21    True   False   False  \n",
      "22    True   False   False  \n",
      "23    True   False   False  \n",
      "24    True   False   False  \n",
      "25   False    True   False  \n",
      "26   False   False    True  \n",
      "27   False   False    True  \n",
      "28   False   False   False  \n",
      "29   False   False    True  \n",
      "30   False   False    True  \n",
      "31   False    True   False  \n"
     ]
    }
   ],
   "source": [
    "# get_dummies() 전체 변수에 대해 확인\n",
    "print(X.info())\n",
    "# 변수의 전체 열을 대상으로 원핫 인코딩 수행\n",
    "print(pd\n",
    "      .get_dummies(X, drop_first = True))"
   ]
  },
  {
   "cell_type": "code",
   "execution_count": 7,
   "metadata": {},
   "outputs": [
    {
     "name": "stdout",
     "output_type": "stream",
     "text": [
      "0    manual\n",
      "1    manual\n",
      "2    manual\n",
      "3      auto\n",
      "4      auto\n",
      "Name: am, dtype: object\n",
      "[1 1 1 0 0 0 0 0 0 0 0 0 0 0 0 0 0 1 1 1 0 0 0 0 0 1 1 1 1 1 1 1]\n"
     ]
    }
   ],
   "source": [
    "# sklearn preprocessing labelEncoder (*라벨 인코딩 - > 범주형변수를 연속형 변수로 라벨링?)\n",
    "print(X['am']\n",
    "      .head())\n",
    "from sklearn.preprocessing import LabelEncoder\n",
    "encoder = LabelEncoder()\n",
    "\n",
    "# encoder를 통해 am 열 값에 대해 라벨 인코딩 수행하기\n",
    "print(encoder.fit_transform(X['am']))"
   ]
  },
  {
   "cell_type": "code",
   "execution_count": 13,
   "metadata": {},
   "outputs": [
    {
     "name": "stdout",
     "output_type": "stream",
     "text": [
      "0     1\n",
      "1     1\n",
      "2     1\n",
      "3     0\n",
      "4     0\n",
      "5     0\n",
      "6     0\n",
      "7     0\n",
      "8     0\n",
      "9     0\n",
      "10    0\n",
      "11    0\n",
      "12    0\n",
      "13    0\n",
      "14    0\n",
      "15    0\n",
      "16    0\n",
      "17    1\n",
      "18    1\n",
      "19    1\n",
      "20    0\n",
      "21    0\n",
      "22    0\n",
      "23    0\n",
      "24    0\n",
      "25    1\n",
      "26    1\n",
      "27    1\n",
      "28    1\n",
      "29    1\n",
      "30    1\n",
      "31    1\n",
      "Name: new_am, dtype: object\n"
     ]
    }
   ],
   "source": [
    "# replace를 통해 am 열 값에 대해 라벨 인코딩 수행하기\n",
    "X['new_am'] = (X['am']\n",
    "          .replace('manual', '1')\n",
    "          .replace('auto' , '0'))\n",
    "\n",
    "print(X['new_am'])"
   ]
  },
  {
   "cell_type": "code",
   "execution_count": null,
   "metadata": {},
   "outputs": [
    {
     "name": "stdout",
     "output_type": "stream",
     "text": [
      "[0 1 2]\n",
      "['apple', 'banana', 'grape']\n"
     ]
    }
   ],
   "source": [
    "# 라벨 인코딩 01 이외의 경우!\n",
    "fruit = ['apple','banana','grape']\n",
    "encoder = LabelEncoder()\n",
    "fruit_new = encoder.fit_transform(fruit)\n",
    "print(fruit_new)\n",
    "print(fruit)"
   ]
  }
 ],
 "metadata": {
  "kernelspec": {
   "display_name": "Python 3",
   "language": "python",
   "name": "python3"
  },
  "language_info": {
   "codemirror_mode": {
    "name": "ipython",
    "version": 3
   },
   "file_extension": ".py",
   "mimetype": "text/x-python",
   "name": "python",
   "nbconvert_exporter": "python",
   "pygments_lexer": "ipython3",
   "version": "3.11.9"
  }
 },
 "nbformat": 4,
 "nbformat_minor": 2
}
