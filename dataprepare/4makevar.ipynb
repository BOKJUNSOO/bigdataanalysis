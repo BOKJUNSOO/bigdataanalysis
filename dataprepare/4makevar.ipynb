{
 "cells": [
  {
   "cell_type": "code",
   "execution_count": 35,
   "metadata": {},
   "outputs": [
    {
     "name": "stdout",
     "output_type": "stream",
     "text": [
      "   cyl   disp   hp  drat     wt   qsec  vs      am gear  carb\n",
      "0  6.0  160.0  110  3.90  2.620  16.46   0  manual    4     4\n",
      "1  6.0  160.0  110  3.90  2.875  17.02   0  manual    4     4\n",
      "2  4.0  108.0   93  3.85  2.320  18.61   1  manual    4     1\n",
      "3  6.0  258.0  110  3.08  3.215   0.10   1    auto    3     1\n",
      "4  8.0  360.0  175  3.15  3.440  17.02   0    auto    3     2\n"
     ]
    }
   ],
   "source": [
    "import pandas as pd\n",
    "df = pd.read_csv(r\"C:\\Users\\brian\\OneDrive\\Desktop\\JUNSOO\\bigdata\\data\\mtcars.csv\")\n",
    "\n",
    "X = df.drop(columns = 'mpg')\n",
    "Y = df['mpg']\n",
    "X = X.iloc[:,1:]\n",
    "print(X.head())"
   ]
  },
  {
   "cell_type": "code",
   "execution_count": 36,
   "metadata": {},
   "outputs": [
    {
     "name": "stdout",
     "output_type": "stream",
     "text": [
      "0      True\n",
      "1      True\n",
      "2      True\n",
      "3      True\n",
      "4     False\n",
      "5     False\n",
      "6     False\n",
      "7      True\n",
      "8      True\n",
      "9     False\n",
      "10    False\n",
      "11    False\n",
      "12    False\n",
      "13    False\n",
      "14    False\n",
      "15    False\n",
      "16    False\n",
      "17     True\n",
      "18     True\n",
      "19     True\n",
      "20     True\n",
      "21    False\n",
      "22    False\n",
      "23    False\n",
      "24    False\n",
      "25     True\n",
      "26     True\n",
      "27     True\n",
      "28     True\n",
      "29     True\n",
      "30    False\n",
      "31     True\n",
      "Name: wt, dtype: bool\n"
     ]
    }
   ],
   "source": [
    "# 파생변수 만들기\n",
    "print(X['wt'] < 3.3 )"
   ]
  },
  {
   "cell_type": "code",
   "execution_count": 37,
   "metadata": {},
   "outputs": [],
   "source": [
    "# wt가 3.3 보다 작은 열은 condition 변수에 저장한다.\n",
    "condition = X['wt'] < 3.3\n",
    "\n",
    "# condtion 을 만족하면 , wt_class 열에 0으로 저장한다. 새로운 변수를 \"생성\" 하는 라인임을 인식\n",
    "X.loc[condition, 'wt_class'] = 0\n",
    "\n",
    "# 변수가 condition 을 만족하지 않으면 wt_class 열에 1로 저장한다\n",
    "X.loc[~condition, 'wt_class'] = 1\n"
   ]
  },
  {
   "cell_type": "code",
   "execution_count": 41,
   "metadata": {},
   "outputs": [
    {
     "name": "stdout",
     "output_type": "stream",
     "text": [
      "   cyl   disp   hp  drat   qsec  vs      am gear  carb  wt_class\n",
      "0  6.0  160.0  110  3.90  16.46   0  manual    4     4       0.0\n",
      "1  6.0  160.0  110  3.90  17.02   0  manual    4     4       0.0\n",
      "2  4.0  108.0   93  3.85  18.61   1  manual    4     1       0.0\n",
      "3  6.0  258.0  110  3.08   0.10   1    auto    3     1       0.0\n",
      "4  8.0  360.0  175  3.15  17.02   0    auto    3     2       1.0\n"
     ]
    }
   ],
   "source": [
    "# drop 함수안에 columns 추가 가능 \n",
    "# cf get_dummies 함수 안에 drop_first 추가 가능\n",
    "# X 를 wt 없애고 새로 지정 X = X.drop(columns = ['wt']) 를 실행 한번 하면 한번 더 실행이 안됨('wt' 변수가 없어짐)\n",
    "#X = X.drop(columns = 'wt')\n",
    "print(X.head())"
   ]
  },
  {
   "cell_type": "code",
   "execution_count": 42,
   "metadata": {},
   "outputs": [],
   "source": [
    "# qsec 값을 1/4mile 에서 1mile로 단위변환 하여 새로운 변수\"추가\" 한거임!!\n",
    "X['qsec_4'] = X['qsec'] * 4"
   ]
  },
  {
   "cell_type": "code",
   "execution_count": null,
   "metadata": {},
   "outputs": [],
   "source": [
    "print(X[['qsec_4' , 'qsec']])"
   ]
  },
  {
   "cell_type": "code",
   "execution_count": 44,
   "metadata": {},
   "outputs": [],
   "source": [
    "# 기존의 변수를 삭제하고 위에서 설정한 새로운변수로 추가\n",
    "X = X.drop(columns = 'qsec')"
   ]
  },
  {
   "cell_type": "code",
   "execution_count": 45,
   "metadata": {},
   "outputs": [
    {
     "name": "stdout",
     "output_type": "stream",
     "text": [
      "   cyl   disp   hp  drat  vs      am gear  carb  wt_class  qsec_4\n",
      "0  6.0  160.0  110  3.90   0  manual    4     4       0.0   65.84\n",
      "1  6.0  160.0  110  3.90   0  manual    4     4       0.0   68.08\n",
      "2  4.0  108.0   93  3.85   1  manual    4     1       0.0   74.44\n",
      "3  6.0  258.0  110  3.08   1    auto    3     1       0.0    0.40\n",
      "4  8.0  360.0  175  3.15   0    auto    3     2       1.0   68.08\n"
     ]
    }
   ],
   "source": [
    "print(X.head())"
   ]
  },
  {
   "cell_type": "code",
   "execution_count": null,
   "metadata": {},
   "outputs": [],
   "source": []
  }
 ],
 "metadata": {
  "kernelspec": {
   "display_name": "Python 3",
   "language": "python",
   "name": "python3"
  },
  "language_info": {
   "codemirror_mode": {
    "name": "ipython",
    "version": 3
   },
   "file_extension": ".py",
   "mimetype": "text/x-python",
   "name": "python",
   "nbconvert_exporter": "python",
   "pygments_lexer": "ipython3",
   "version": "3.12.3"
  }
 },
 "nbformat": 4,
 "nbformat_minor": 2
}
