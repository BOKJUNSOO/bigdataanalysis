{
 "cells": [
  {
   "cell_type": "code",
   "execution_count": 2,
   "metadata": {},
   "outputs": [],
   "source": [
    "# 디렉토리 오류 생길시 \\ -> /로 바꿔볼것..!\n",
    "# r'C:\n",
    "# //\n",
    "import pandas as pd\n",
    "df = pd.read_csv(r\"C:\\Users\\brian\\OneDrive\\Desktop\\JUNSOO\\bigdata\\data\\mtcars.csv\")"
   ]
  },
  {
   "cell_type": "code",
   "execution_count": 3,
   "metadata": {},
   "outputs": [
    {
     "name": "stdout",
     "output_type": "stream",
     "text": [
      "   cyl   disp   hp  drat     wt   qsec  vs      am gear  carb\n",
      "0  6.0  160.0  110  3.90  2.620  16.46   0  manual    4     4\n",
      "1  6.0  160.0  110  3.90  2.875  17.02   0  manual    4     4\n",
      "2  4.0  108.0   93  3.85  2.320  18.61   1  manual    4     1\n",
      "3  6.0  258.0  110  3.08  3.215   0.10   1    auto    3     1\n",
      "4  8.0  360.0  175  3.15  3.440  17.02   0    auto    3     2\n"
     ]
    }
   ],
   "source": [
    "# 변수는 . 으로 합성되지 않고 함수만 . 으로 합성할것\n",
    "# TO KNOW ft ... iloc[행,렬], drop(**)\n",
    "X = df.drop(columns = 'mpg')\n",
    "Y = df['mpg']\n",
    "\n",
    "X = X.iloc[:,1:]\n",
    "print(X.head())"
   ]
  },
  {
   "cell_type": "code",
   "execution_count": 4,
   "metadata": {},
   "outputs": [
    {
     "name": "stdout",
     "output_type": "stream",
     "text": [
      "17.6\n",
      "cyl     0\n",
      "disp    0\n",
      "hp      0\n",
      "drat    0\n",
      "wt      0\n",
      "qsec    0\n",
      "vs      0\n",
      "am      0\n",
      "gear    0\n",
      "carb    0\n",
      "dtype: int64\n"
     ]
    }
   ],
   "source": [
    "# TO KNOW ft ... fillna(지정변수) note) fillna-결측값fill\n",
    "                 \n",
    "X_cyl_mean = X['cyl'].mean()\n",
    "X['cyl'] = (\n",
    "        X['cyl']\n",
    "        .fillna(X_cyl_mean)\n",
    "            )\n",
    "\n",
    "X_qsec_median = (\n",
    "        X['qsec']\n",
    "        .median()\n",
    "            )\n",
    "\n",
    "print(X_qsec_median)\n",
    "\n",
    "X['qsec'] = (\n",
    "        X['qsec']\n",
    "        .fillna(X_qsec_median)\n",
    "            )\n",
    "print       (\n",
    "        X\n",
    "        .isnull()\n",
    "        .sum()\n",
    "            )"
   ]
  },
  {
   "cell_type": "code",
   "execution_count": 5,
   "metadata": {},
   "outputs": [
    {
     "name": "stdout",
     "output_type": "stream",
     "text": [
      "['4' '3' '*3' '5' '*5']\n",
      "['4' '3' '5']\n"
     ]
    }
   ],
   "source": [
    "print(X['gear'].unique())\n",
    "X['gear'] = X['gear'].replace('*3','3').replace('*5','5')\n",
    "print(X['gear'].unique())"
   ]
  },
  {
   "cell_type": "code",
   "execution_count": null,
   "metadata": {},
   "outputs": [],
   "source": [
    "#NOTE) \n",
    "#       loc[인덱스,'str'] -> str : max or n%, \n",
    "#       iloc[int,int]\n",
    "#       loc 쓸때는 왜 describe 변수 지정해서 하지?\n",
    "#       => X['str'].loc or X.loc 로 안함?\n",
    "X_describe = X.describe()\n",
    "#print(\n",
    "#    X_describe.loc['75%']\n",
    "#    ,X_describe.loc['25%']\n",
    "#    ,sep = '\\n')\n",
    "X_iqr = X_describe.loc['75%'] - X_describe.loc['25%']\n",
    "print(X_iqr)\n",
    "print(X_describe\n",
    "        .loc['75%'] \n",
    "        + 1.5 * X_iqr)\n",
    "print(X_describe\n",
    "        .loc['max'])\n",
    "print(X\n",
    "        .loc[X['cyl'] > 14]) #loc 의 활용...!\n",
    "                            #14번 인덱스에 max 값이였던\n",
    "                            #50이 존재함\n",
    "X.loc[14,'cyl'] = 14\n",
    "print(X.loc[X['cyl']>14])\n",
    "#print(X_describe.loc['max'])\n"
   ]
  },
  {
   "cell_type": "code",
   "execution_count": 135,
   "metadata": {},
   "outputs": [
    {
     "name": "stdout",
     "output_type": "stream",
     "text": [
      "cyl      14.000000\n",
      "disp    633.762500\n",
      "hp      305.250000\n",
      "drat      5.180000\n",
      "wt        5.153125\n",
      "qsec     21.465000\n",
      "vs        2.500000\n",
      "carb      7.000000\n",
      "dtype: float64\n",
      "Empty DataFrame\n",
      "Columns: [cyl, disp, hp, drat, wt, qsec, vs, am, gear, carb]\n",
      "Index: []\n",
      "cyl      14.000\n",
      "disp    472.000\n",
      "hp      335.000\n",
      "drat      4.930\n",
      "wt        5.424\n",
      "qsec    100.000\n",
      "vs        1.000\n",
      "carb      8.000\n",
      "Name: max, dtype: float64\n"
     ]
    }
   ],
   "source": [
    "print(X_describe.\n",
    "      loc['75%']\n",
    "      + 1.5 * X_iqr)\n",
    "\n",
    "print(X.loc[X['hp']>305.25])\n",
    "\n",
    "print(X_describe\n",
    "      .loc['max'])\n"
   ]
  },
  {
   "cell_type": "code",
   "execution_count": null,
   "metadata": {},
   "outputs": [],
   "source": []
  }
 ],
 "metadata": {
  "kernelspec": {
   "display_name": "Python 3",
   "language": "python",
   "name": "python3"
  },
  "language_info": {
   "codemirror_mode": {
    "name": "ipython",
    "version": 3
   },
   "file_extension": ".py",
   "mimetype": "text/x-python",
   "name": "python",
   "nbconvert_exporter": "python",
   "pygments_lexer": "ipython3",
   "version": "3.12.3"
  }
 },
 "nbformat": 4,
 "nbformat_minor": 2
}
