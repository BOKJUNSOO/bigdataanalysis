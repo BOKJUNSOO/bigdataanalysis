{
 "cells": [
  {
   "cell_type": "code",
   "execution_count": 1,
   "metadata": {},
   "outputs": [],
   "source": [
    "import pandas as pd\n",
    "df = pd.read_csv(r\"C:\\Users\\brian\\Desktop\\JUNSOO\\bigdata\\data\\boston.csv\")"
   ]
  },
  {
   "cell_type": "code",
   "execution_count": null,
   "metadata": {},
   "outputs": [],
   "source": [
    "#문제2) Boston 데이터 세트의 TAX 칼럼을 오름차순으로 정렬한 결과와 내림차순으로 정렬한 결과를 각각 구한다.\n",
    "#       그리고 순번에 맞는오름차순 값과 내림차순 값의 차이를 구하여 분산 값을 출력하시오.\n",
    "#       concat() , reset_index()"
   ]
  },
  {
   "cell_type": "code",
   "execution_count": 20,
   "metadata": {},
   "outputs": [
    {
     "name": "stdout",
     "output_type": "stream",
     "text": [
      "353    187\n",
      "123    188\n",
      "122    188\n",
      "126    188\n",
      "125    188\n",
      "      ... \n",
      "492    711\n",
      "491    711\n",
      "490    711\n",
      "489    711\n",
      "488    711\n",
      "Name: TAX, Length: 506, dtype: int64\n",
      "492    711\n",
      "491    711\n",
      "490    711\n",
      "489    711\n",
      "488    711\n",
      "      ... \n",
      "121    188\n",
      "120    188\n",
      "125    188\n",
      "124    188\n",
      "353    187\n",
      "Name: TAX, Length: 506, dtype: int64\n"
     ]
    }
   ],
   "source": [
    "Tax_dtu = (df['TAX']    #tax 칼럼 오름차순 data ==> inplace 로 변수지정 하지 않고 시행 가능!\n",
    "           .sort_values(ascending = True))\n",
    "Tax_utd = (df['TAX']    #tax 칼럼 내림차순 data\n",
    "           .sort_values(ascending = False))\n",
    "\n",
    "print(Tax_dtu)\n",
    "print(Tax_utd)"
   ]
  },
  {
   "cell_type": "code",
   "execution_count": null,
   "metadata": {},
   "outputs": [],
   "source": [
    "# 각 변수의 인덱스 재설정하기 'reset_index' function!!\n",
    "#drop_tax_dtu = (Tax_dtu\n",
    "#                .reset_index(drop = True)) \n",
    "#or\n",
    "Tax_dtu.reset_index(drop = True , inplace = True) # reset_index function 의 parameter  drop !\n",
    "                                                  # reset_index 의 의미 ==> drop = True 기존 인덱스 정보를 삭제한다.\n",
    "                                                  # 인덱스를 재설정 한다 = index 를 0부터 시작하도록 만든다!\n",
    "print(Tax_dtu)\n",
    "\n",
    "Tax_utd = (Tax_utd\n",
    "           .reset_index(drop = True))\n",
    "print(Tax_utd)"
   ]
  },
  {
   "cell_type": "code",
   "execution_count": 23,
   "metadata": {},
   "outputs": [
    {
     "name": "stdout",
     "output_type": "stream",
     "text": [
      "     TAX  TAX\n",
      "0    187  711\n",
      "1    188  711\n",
      "2    188  711\n",
      "3    188  711\n",
      "4    188  711\n",
      "..   ...  ...\n",
      "501  711  188\n",
      "502  711  188\n",
      "503  711  188\n",
      "504  711  188\n",
      "505  711  187\n",
      "\n",
      "[506 rows x 2 columns]\n"
     ]
    }
   ],
   "source": [
    "# 새로 인덱싱한 각각의 칼럼을 이어붙이는 함수 'concat()'\n",
    "# concat() 함수는 여러 데이터 프레임을 물리적으로 합치는 기능! concatenate '결합시키다'\n",
    "# concat() ==> 행 단위가 아닌 칼럼 단위로 붙히기 때문에 axis = 1 이라는 parameter 추가 필요!\n",
    "data_concat = (pd\n",
    "               .concat([Tax_dtu , Tax_utd] , axis = 1)) # pandas 라이브러리의 함수 cd) DataFrame\n",
    "                                                        # concat 합친다 [데이터프레임1, 데이터프레임2] , axis = 합칠기준 0 = 행기준\n",
    "#                                                                                                                    1  = 열기준\n",
    "#                                                       # 인덱스가 같지 않아도 합치고 데이터를 버리지 않음!\n",
    "print(data_concat)\n"
   ]
  },
  {
   "cell_type": "code",
   "execution_count": 29,
   "metadata": {},
   "outputs": [
    {
     "name": "stdout",
     "output_type": "stream",
     "text": [
      "     TAX  TAX  diff\n",
      "0    187  711   524\n",
      "1    188  711   523\n",
      "2    188  711   523\n",
      "3    188  711   523\n",
      "4    188  711   523\n",
      "..   ...  ...   ...\n",
      "501  711  188   523\n",
      "502  711  188   523\n",
      "503  711  188   523\n",
      "504  711  188   523\n",
      "505  711  187   524\n",
      "\n",
      "[506 rows x 3 columns]\n",
      "28490.598645951555\n"
     ]
    }
   ],
   "source": [
    "#순번에 맞는 오름차순값과 내림차순 값의 차이를 구해서 분산구하기\n",
    "#print(data_concat\n",
    "#      .iloc[:,0]) \n",
    "#print(data_concat\n",
    "#      .iloc[:,1])\n",
    "\n",
    "data_concat['diff'] = abs(data_concat.iloc[:,0] - data_concat.iloc[:,1]) ##***새로운 칼럼추가...?ㄷㄷ pd.dataframe count() 함수확인\n",
    "print(data_concat)\n",
    "print(data_concat['diff']\n",
    "      .var())       #데이터셋의 칼럼 분산구하기"
   ]
  },
  {
   "cell_type": "code",
   "execution_count": null,
   "metadata": {},
   "outputs": [],
   "source": []
  }
 ],
 "metadata": {
  "kernelspec": {
   "display_name": "Python 3",
   "language": "python",
   "name": "python3"
  },
  "language_info": {
   "codemirror_mode": {
    "name": "ipython",
    "version": 3
   },
   "file_extension": ".py",
   "mimetype": "text/x-python",
   "name": "python",
   "nbconvert_exporter": "python",
   "pygments_lexer": "ipython3",
   "version": "3.11.9"
  }
 },
 "nbformat": 4,
 "nbformat_minor": 2
}
