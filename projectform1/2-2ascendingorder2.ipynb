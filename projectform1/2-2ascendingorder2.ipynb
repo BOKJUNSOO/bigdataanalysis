{
 "cells": [
  {
   "cell_type": "code",
   "execution_count": 1,
   "metadata": {},
   "outputs": [
    {
     "name": "stdout",
     "output_type": "stream",
     "text": [
      "<class 'pandas.core.frame.DataFrame'>\n",
      "RangeIndex: 506 entries, 0 to 505\n",
      "Data columns (total 14 columns):\n",
      " #   Column   Non-Null Count  Dtype  \n",
      "---  ------   --------------  -----  \n",
      " 0   CRIM     506 non-null    float64\n",
      " 1   ZN       506 non-null    float64\n",
      " 2   INDUS    506 non-null    float64\n",
      " 3   CHAS     506 non-null    int64  \n",
      " 4   NOX      506 non-null    float64\n",
      " 5   RM       491 non-null    float64\n",
      " 6   AGE      506 non-null    float64\n",
      " 7   DIS      506 non-null    float64\n",
      " 8   RAD      506 non-null    int64  \n",
      " 9   TAX      506 non-null    int64  \n",
      " 10  PTRATIO  506 non-null    float64\n",
      " 11  B        506 non-null    float64\n",
      " 12  LSTAT    506 non-null    float64\n",
      " 13  MEDV     506 non-null    float64\n",
      "dtypes: float64(11), int64(3)\n",
      "memory usage: 55.5 KB\n"
     ]
    }
   ],
   "source": [
    "import pandas as pd\n",
    "df = pd.read_csv(r\"C:\\Users\\brian\\Desktop\\JUNSOO\\bigdata\\data\\boston.csv\")\n",
    "df.info()"
   ]
  },
  {
   "cell_type": "code",
   "execution_count": 2,
   "metadata": {},
   "outputs": [],
   "source": [
    "#문제2) Boston 데이터 세트의 TAX 칼럼을 오름차순으로 정렬한 결과와 내림차순으로 정렬한 결과를 각각 구한다.\n",
    "#       그리고 순번에 맞는오름차순 값과 내림차순 값의 차이를 구하여 분산 값을 출력하시오.\n",
    "#       concat() , reset_index()"
   ]
  },
  {
   "cell_type": "code",
   "execution_count": 3,
   "metadata": {},
   "outputs": [],
   "source": [
    "# sort_values -> by 라는 paramater 은 dataframe 일때 사용한다. pd.DataFrame 으로 series 를 변경후 by 입력가능\n",
    "#             -> inplace 라는 paramter 은 없다\n",
    "\n",
    "Tax_dtu = (df['TAX']    #tax 칼럼 오름차순 data \n",
    "           .sort_values(ascending = True))\n",
    "Tax_utd = (df['TAX']    #tax 칼럼 내림차순 data\n",
    "           .sort_values(ascending = False))\n",
    "\n",
    "\n",
    "#print(Tax_dtu)\n",
    "#print(Tax_utd)\n"
   ]
  },
  {
   "cell_type": "code",
   "execution_count": 4,
   "metadata": {},
   "outputs": [
    {
     "data": {
      "text/plain": [
       "353    187\n",
       "123    188\n",
       "122    188\n",
       "126    188\n",
       "125    188\n",
       "      ... \n",
       "492    711\n",
       "491    711\n",
       "490    711\n",
       "489    711\n",
       "488    711\n",
       "Name: TAX, Length: 506, dtype: int64"
      ]
     },
     "execution_count": 4,
     "metadata": {},
     "output_type": "execute_result"
    }
   ],
   "source": [
    "Tax_dtu"
   ]
  },
  {
   "cell_type": "code",
   "execution_count": 5,
   "metadata": {},
   "outputs": [
    {
     "name": "stdout",
     "output_type": "stream",
     "text": [
      "0      187\n",
      "1      188\n",
      "2      188\n",
      "3      188\n",
      "4      188\n",
      "      ... \n",
      "501    711\n",
      "502    711\n",
      "503    711\n",
      "504    711\n",
      "505    711\n",
      "Name: TAX, Length: 506, dtype: int64\n",
      "0      711\n",
      "1      711\n",
      "2      711\n",
      "3      711\n",
      "4      711\n",
      "      ... \n",
      "501    188\n",
      "502    188\n",
      "503    188\n",
      "504    188\n",
      "505    187\n",
      "Name: TAX, Length: 506, dtype: int64\n"
     ]
    }
   ],
   "source": [
    "# 각 변수의 인덱스 재설정하기 'reset_index' function!!\n",
    "#drop_tax_dtu = (Tax_dtu\n",
    "#                .reset_index(drop = True)) \n",
    "#or\n",
    "Tax_dtu.reset_index(drop = True , inplace = True) # reset_index function 의 parameter  drop !\n",
    "                                                  # reset_index 의 의미 ==> drop = True 기존 인덱스 정보를 삭제한다.\n",
    "                                                  # 인덱스를 재설정 한다 = index 를 0부터 시작하도록 만든다!\n",
    "print(Tax_dtu)\n",
    "\n",
    "Tax_utd = (Tax_utd\n",
    "           .reset_index(drop = True))\n",
    "print(Tax_utd)"
   ]
  },
  {
   "cell_type": "code",
   "execution_count": 7,
   "metadata": {},
   "outputs": [
    {
     "name": "stdout",
     "output_type": "stream",
     "text": [
      "     TAX  TAX\n",
      "0    187  711\n",
      "1    188  711\n",
      "2    188  711\n",
      "3    188  711\n",
      "4    188  711\n",
      "..   ...  ...\n",
      "501  711  188\n",
      "502  711  188\n",
      "503  711  188\n",
      "504  711  188\n",
      "505  711  187\n",
      "\n",
      "[506 rows x 2 columns]\n"
     ]
    }
   ],
   "source": [
    "# 새로 인덱싱한 각각의 칼럼을 이어붙이는 함수 'concat()'\n",
    "# concat() 함수는 여러 데이터 프레임을 물리적으로 합치는 기능! concatenate '결합시키다'\n",
    "# concat() ==> 행 단위가 아닌 칼럼 단위로 붙히기 때문에 axis = 1 이라는 parameter 추가 필요! \n",
    "data_concat = (pd\n",
    "               .concat([Tax_dtu , Tax_utd] , axis = 1)) # pandas 라이브러리의 함수 cf) DataFrame\n",
    "                                                        # concat 합친다 [데이터프레임1, 데이터프레임2] , axis = 합칠기준 0 = 행기준\n",
    "#                                                                                                                    1  = 열기준\n",
    "#                                                       # 인덱스가 같지 않아도 합치고 데이터를 버리지 않음!\n",
    "print(data_concat)\n"
   ]
  },
  {
   "cell_type": "code",
   "execution_count": 9,
   "metadata": {},
   "outputs": [
    {
     "data": {
      "text/html": [
       "<div>\n",
       "<style scoped>\n",
       "    .dataframe tbody tr th:only-of-type {\n",
       "        vertical-align: middle;\n",
       "    }\n",
       "\n",
       "    .dataframe tbody tr th {\n",
       "        vertical-align: top;\n",
       "    }\n",
       "\n",
       "    .dataframe thead th {\n",
       "        text-align: right;\n",
       "    }\n",
       "</style>\n",
       "<table border=\"1\" class=\"dataframe\">\n",
       "  <thead>\n",
       "    <tr style=\"text-align: right;\">\n",
       "      <th></th>\n",
       "      <th>TAX</th>\n",
       "      <th>TAX</th>\n",
       "    </tr>\n",
       "  </thead>\n",
       "  <tbody>\n",
       "    <tr>\n",
       "      <th>0</th>\n",
       "      <td>187</td>\n",
       "      <td>711</td>\n",
       "    </tr>\n",
       "    <tr>\n",
       "      <th>1</th>\n",
       "      <td>188</td>\n",
       "      <td>711</td>\n",
       "    </tr>\n",
       "    <tr>\n",
       "      <th>2</th>\n",
       "      <td>188</td>\n",
       "      <td>711</td>\n",
       "    </tr>\n",
       "    <tr>\n",
       "      <th>3</th>\n",
       "      <td>188</td>\n",
       "      <td>711</td>\n",
       "    </tr>\n",
       "    <tr>\n",
       "      <th>4</th>\n",
       "      <td>188</td>\n",
       "      <td>711</td>\n",
       "    </tr>\n",
       "  </tbody>\n",
       "</table>\n",
       "</div>"
      ],
      "text/plain": [
       "   TAX  TAX\n",
       "0  187  711\n",
       "1  188  711\n",
       "2  188  711\n",
       "3  188  711\n",
       "4  188  711"
      ]
     },
     "execution_count": 9,
     "metadata": {},
     "output_type": "execute_result"
    }
   ],
   "source": [
    "data_concat.head()"
   ]
  },
  {
   "cell_type": "code",
   "execution_count": 29,
   "metadata": {},
   "outputs": [
    {
     "name": "stdout",
     "output_type": "stream",
     "text": [
      "     TAX  TAX  diff\n",
      "0    187  711   524\n",
      "1    188  711   523\n",
      "2    188  711   523\n",
      "3    188  711   523\n",
      "4    188  711   523\n",
      "..   ...  ...   ...\n",
      "501  711  188   523\n",
      "502  711  188   523\n",
      "503  711  188   523\n",
      "504  711  188   523\n",
      "505  711  187   524\n",
      "\n",
      "[506 rows x 3 columns]\n",
      "28490.598645951555\n"
     ]
    }
   ],
   "source": [
    "#순번에 맞는 오름차순값과 내림차순 값의 차이를 구해서 분산구하기\n",
    "#print(data_concat\n",
    "#      .iloc[:,0]) \n",
    "#print(data_concat\n",
    "#      .iloc[:,1])\n",
    "\n",
    "data_concat['diff'] = abs(data_concat.iloc[:,0] - data_concat.iloc[:,1]) ##***새로운 칼럼추가...?ㄷㄷ pd.dataframe count() 함수확인\n",
    "                                                                         ## 데이터 프레임의 정의가 아닌 데이터 프레임의 특정 칼럼추가\n",
    "                                                                         ## dataframe.colums 라는 함수는 존재하지 않던 칼럼추가? 2-1참고\n",
    "                                                                         ## concat = dtu + utd 인데 처음dtu/utd\n",
    "                                                                         #  정의할때 칼럼을 버린것은 아닌가 -- Series\n",
    "print(data_concat)\n",
    "print(data_concat['diff']\n",
    "      .var())       #데이터셋의 칼럼 분산구하기"
   ]
  },
  {
   "cell_type": "code",
   "execution_count": null,
   "metadata": {},
   "outputs": [],
   "source": []
  }
 ],
 "metadata": {
  "kernelspec": {
   "display_name": "Python 3",
   "language": "python",
   "name": "python3"
  },
  "language_info": {
   "codemirror_mode": {
    "name": "ipython",
    "version": 3
   },
   "file_extension": ".py",
   "mimetype": "text/x-python",
   "name": "python",
   "nbconvert_exporter": "python",
   "pygments_lexer": "ipython3",
   "version": "3.11.9"
  }
 },
 "nbformat": 4,
 "nbformat_minor": 2
}
