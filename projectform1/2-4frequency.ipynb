{
 "cells": [
  {
   "cell_type": "code",
   "execution_count": 1,
   "metadata": {},
   "outputs": [],
   "source": [
    "import pandas as pd\n",
    "df = pd.read_csv(r\"C:\\Users\\brian\\Desktop\\JUNSOO\\bigdata\\data\\boston.csv\")"
   ]
  },
  {
   "cell_type": "code",
   "execution_count": 2,
   "metadata": {},
   "outputs": [],
   "source": [
    "# boston의 AGE 칼럼을 소수점 첫번째 자리에서 반올림하고 (int 형태로 변환)\n",
    "# 가장 많은 비중을 차지하는 AGE 값과 그 개수를 출력하시오. (AGE 칼럼을 기준으로 그룹화하고, 그룹별 개수 계산)\n",
    "# 즉 AGE 칼럼의 최빈값과 그 개수를 출력하시오. (최빈값 describe()?)"
   ]
  },
  {
   "cell_type": "code",
   "execution_count": 3,
   "metadata": {},
   "outputs": [
    {
     "name": "stdout",
     "output_type": "stream",
     "text": [
      "0      65.2\n",
      "1      78.9\n",
      "2      61.1\n",
      "3      45.8\n",
      "4      54.2\n",
      "       ... \n",
      "501    69.1\n",
      "502    76.7\n",
      "503    91.0\n",
      "504    89.3\n",
      "505    80.8\n",
      "Name: AGE, Length: 506, dtype: float64\n",
      "0      65.0\n",
      "1      79.0\n",
      "2      61.0\n",
      "3      46.0\n",
      "4      54.0\n",
      "       ... \n",
      "501    69.0\n",
      "502    77.0\n",
      "503    91.0\n",
      "504    89.0\n",
      "505    81.0\n",
      "Name: AGE, Length: 506, dtype: float64\n",
      "<class 'pandas.core.series.Series'>\n",
      "RangeIndex: 506 entries, 0 to 505\n",
      "Series name: AGE\n",
      "Non-Null Count  Dtype  \n",
      "--------------  -----  \n",
      "506 non-null    float64\n",
      "dtypes: float64(1)\n",
      "memory usage: 4.1 KB\n"
     ]
    }
   ],
   "source": [
    "# 첫번째 방법!\n",
    "print(df['AGE'])\n",
    "\n",
    "print(round(df['AGE'],0)) #round 함수의 parameter 은 (df , 소숫점 n+1 번째 자리 반올림)\n",
    "df_round = round(df['AGE'] , 0)\n",
    "df_round.info()"
   ]
  },
  {
   "cell_type": "code",
   "execution_count": 4,
   "metadata": {},
   "outputs": [
    {
     "name": "stdout",
     "output_type": "stream",
     "text": [
      "AGE\n",
      "3.0       1\n",
      "6.0       3\n",
      "7.0       3\n",
      "8.0       3\n",
      "9.0       1\n",
      "         ..\n",
      "96.0     15\n",
      "97.0     17\n",
      "98.0     19\n",
      "99.0     10\n",
      "100.0    43\n",
      "Name: AGE, Length: 91, dtype: int64\n",
      "<class 'pandas.core.series.Series'>\n",
      "<class 'pandas.core.frame.DataFrame'>\n"
     ]
    }
   ],
   "source": [
    "#변수 데이터를 데이터 프레임으로 저장하겠다 (바로 grouby 를 사용할수 없음! ==> DataFrame 이전에는 Series 타입임 칼럼이 하나뿐!)\n",
    "df_round = pd.DataFrame(df_round)\n",
    "print(df_round\n",
    "      .groupby(['AGE'])['AGE']\n",
    "      .count())\n",
    "df_round_group = (\n",
    "                df_round\n",
    "                  .groupby(['AGE'])['AGE']\n",
    "                  .count()\n",
    "                  )\n",
    "print(type(df_round_group)) #역시 series 데이터이기 때문에 pd.Dataframe() 으로 가공하기 쉽게 만들자!\n",
    "df_round_group = pd.DataFrame(df_round_group)\n",
    "print(type(df_round_group)) #DataFrame 으로 바뀐 모습!*"
   ]
  },
  {
   "cell_type": "code",
   "execution_count": 5,
   "metadata": {},
   "outputs": [
    {
     "data": {
      "text/html": [
       "<div>\n",
       "<style scoped>\n",
       "    .dataframe tbody tr th:only-of-type {\n",
       "        vertical-align: middle;\n",
       "    }\n",
       "\n",
       "    .dataframe tbody tr th {\n",
       "        vertical-align: top;\n",
       "    }\n",
       "\n",
       "    .dataframe thead th {\n",
       "        text-align: right;\n",
       "    }\n",
       "</style>\n",
       "<table border=\"1\" class=\"dataframe\">\n",
       "  <thead>\n",
       "    <tr style=\"text-align: right;\">\n",
       "      <th></th>\n",
       "      <th>AGE</th>\n",
       "    </tr>\n",
       "    <tr>\n",
       "      <th>AGE</th>\n",
       "      <th></th>\n",
       "    </tr>\n",
       "  </thead>\n",
       "  <tbody>\n",
       "    <tr>\n",
       "      <th>3.0</th>\n",
       "      <td>1</td>\n",
       "    </tr>\n",
       "    <tr>\n",
       "      <th>6.0</th>\n",
       "      <td>3</td>\n",
       "    </tr>\n",
       "    <tr>\n",
       "      <th>7.0</th>\n",
       "      <td>3</td>\n",
       "    </tr>\n",
       "    <tr>\n",
       "      <th>8.0</th>\n",
       "      <td>3</td>\n",
       "    </tr>\n",
       "    <tr>\n",
       "      <th>9.0</th>\n",
       "      <td>1</td>\n",
       "    </tr>\n",
       "  </tbody>\n",
       "</table>\n",
       "</div>"
      ],
      "text/plain": [
       "     AGE\n",
       "AGE     \n",
       "3.0    1\n",
       "6.0    3\n",
       "7.0    3\n",
       "8.0    3\n",
       "9.0    1"
      ]
     },
     "execution_count": 5,
     "metadata": {},
     "output_type": "execute_result"
    }
   ],
   "source": [
    "df_round_group.head()"
   ]
  },
  {
   "cell_type": "code",
   "execution_count": 6,
   "metadata": {},
   "outputs": [],
   "source": [
    "df_round_group.columns = ['COUNT'] ##2-2에서 칼럼을 새로 계산해서 추가한것과 이미 존재하는 칼럼에 이름을 부여하는 것은 구분하자!\n",
    "                                    # 인덱싱 추가하면 칼럼 갯수가 들어가서\n",
    "                                    # 한번 더 실행하면 오류나옴.. (칼럼갯수가 달라졌기 때문!)\n",
    "\n"
   ]
  },
  {
   "cell_type": "code",
   "execution_count": 7,
   "metadata": {},
   "outputs": [
    {
     "data": {
      "text/html": [
       "<div>\n",
       "<style scoped>\n",
       "    .dataframe tbody tr th:only-of-type {\n",
       "        vertical-align: middle;\n",
       "    }\n",
       "\n",
       "    .dataframe tbody tr th {\n",
       "        vertical-align: top;\n",
       "    }\n",
       "\n",
       "    .dataframe thead th {\n",
       "        text-align: right;\n",
       "    }\n",
       "</style>\n",
       "<table border=\"1\" class=\"dataframe\">\n",
       "  <thead>\n",
       "    <tr style=\"text-align: right;\">\n",
       "      <th></th>\n",
       "      <th>COUNT</th>\n",
       "    </tr>\n",
       "    <tr>\n",
       "      <th>AGE</th>\n",
       "      <th></th>\n",
       "    </tr>\n",
       "  </thead>\n",
       "  <tbody>\n",
       "    <tr>\n",
       "      <th>3.0</th>\n",
       "      <td>1</td>\n",
       "    </tr>\n",
       "    <tr>\n",
       "      <th>6.0</th>\n",
       "      <td>3</td>\n",
       "    </tr>\n",
       "    <tr>\n",
       "      <th>7.0</th>\n",
       "      <td>3</td>\n",
       "    </tr>\n",
       "    <tr>\n",
       "      <th>8.0</th>\n",
       "      <td>3</td>\n",
       "    </tr>\n",
       "    <tr>\n",
       "      <th>9.0</th>\n",
       "      <td>1</td>\n",
       "    </tr>\n",
       "  </tbody>\n",
       "</table>\n",
       "</div>"
      ],
      "text/plain": [
       "     COUNT\n",
       "AGE       \n",
       "3.0      1\n",
       "6.0      3\n",
       "7.0      3\n",
       "8.0      3\n",
       "9.0      1"
      ]
     },
     "execution_count": 7,
     "metadata": {},
     "output_type": "execute_result"
    }
   ],
   "source": [
    "df_round_group.head()"
   ]
  },
  {
   "cell_type": "code",
   "execution_count": 8,
   "metadata": {},
   "outputs": [],
   "source": [
    "df_round_group = (df_round_group\n",
    "                  .reset_index(drop = False)) #여러번 실행하지말자.. 계속 인덱싱해버림...\n",
    "#or\n",
    "\n",
    "#df_round_group.reset_index(drop = False , inplace = True)"
   ]
  },
  {
   "cell_type": "code",
   "execution_count": 11,
   "metadata": {},
   "outputs": [
    {
     "name": "stdout",
     "output_type": "stream",
     "text": [
      "<class 'pandas.core.frame.DataFrame'>\n",
      "Index: 91 entries, 90 to 0\n",
      "Data columns (total 2 columns):\n",
      " #   Column  Non-Null Count  Dtype  \n",
      "---  ------  --------------  -----  \n",
      " 0   AGE     91 non-null     float64\n",
      " 1   COUNT   91 non-null     int64  \n",
      "dtypes: float64(1), int64(1)\n",
      "memory usage: 2.1 KB\n"
     ]
    }
   ],
   "source": [
    "df_round_group.head()\n",
    "df_round_group.info()"
   ]
  },
  {
   "cell_type": "code",
   "execution_count": 10,
   "metadata": {},
   "outputs": [
    {
     "name": "stdout",
     "output_type": "stream",
     "text": [
      "   AGE  COUNT\n",
      "0  3.0      1\n",
      "1  6.0      3\n",
      "2  7.0      3\n",
      "      AGE  COUNT\n",
      "90  100.0     43\n",
      "88   98.0     19\n",
      "87   97.0     17\n",
      "100.0 43\n"
     ]
    }
   ],
   "source": [
    "print(df_round_group\n",
    "      .head(3))\n",
    "df_round_group = (df_round_group\n",
    "                  .sort_values(by = 'COUNT' , ascending = False))\n",
    "print(df_round_group.head(3)) #최빈값이 0행0열(최빈값) , 0행1열(갯수)\n",
    "print(df_round_group\n",
    "      .iloc[0,0]\n",
    "      ,df_round_group\n",
    "      .iloc[0,1]) #답 도출!"
   ]
  }
 ],
 "metadata": {
  "kernelspec": {
   "display_name": "Python 3",
   "language": "python",
   "name": "python3"
  },
  "language_info": {
   "codemirror_mode": {
    "name": "ipython",
    "version": 3
   },
   "file_extension": ".py",
   "mimetype": "text/x-python",
   "name": "python",
   "nbconvert_exporter": "python",
   "pygments_lexer": "ipython3",
   "version": "3.11.9"
  }
 },
 "nbformat": 4,
 "nbformat_minor": 2
}
