{
 "cells": [
  {
   "cell_type": "code",
   "execution_count": 15,
   "metadata": {},
   "outputs": [],
   "source": [
    "import pandas as pd\n",
    "df = pd.read_csv(r\"C:\\Users\\brian\\Desktop\\JUNSOO\\bigdata\\data\\boston.csv\")"
   ]
  },
  {
   "cell_type": "code",
   "execution_count": 16,
   "metadata": {},
   "outputs": [],
   "source": [
    "#표준화 척도 변환 ==> 평균이 0이고 표준편차가 1인 크기로 변경하는 것\n",
    "# DIS 칼럼을 표준화 척도로 변환한후,\n",
    "# 0.4 보다 크면서 0.6 보다 작은 값들에 대한 평균을 구하시오.\n",
    "# 단 소수점 셋째 자리에서 반올림하여 소수점 둘쨰 자리까지 출력하시오. round() "
   ]
  },
  {
   "cell_type": "code",
   "execution_count": 17,
   "metadata": {},
   "outputs": [],
   "source": [
    "from sklearn.preprocessing import StandardScaler"
   ]
  },
  {
   "cell_type": "code",
   "execution_count": 18,
   "metadata": {},
   "outputs": [],
   "source": [
    "scalar = StandardScaler() #standardScaler을 실행할 빈박스 생성"
   ]
  },
  {
   "cell_type": "code",
   "execution_count": 19,
   "metadata": {},
   "outputs": [],
   "source": [
    "df_stdd = scalar.fit_transform(df) #표준화 척도로 변환하기"
   ]
  },
  {
   "cell_type": "code",
   "execution_count": 20,
   "metadata": {},
   "outputs": [
    {
     "name": "stdout",
     "output_type": "stream",
     "text": [
      "<class 'pandas.core.frame.DataFrame'>\n"
     ]
    }
   ],
   "source": [
    "# df_stdd = pd.DataFrame(df_stdd) ==> df_stdd 의 columns 를 그대로 사용하지 못함!\n",
    "df_stdd = pd.DataFrame(df_stdd , columns = df.columns) #*처음 읽은 df에 대하여 columns 를 이용하겠다.\n",
    "                                                       # DataFrame() 의 parameter (df , columns =) //cf) minmax 에도 있음 복습!\n",
    "print(type(df_stdd))\n"
   ]
  },
  {
   "cell_type": "code",
   "execution_count": 24,
   "metadata": {},
   "outputs": [
    {
     "name": "stdout",
     "output_type": "stream",
     "text": [
      "1      0.557160\n",
      "2      0.557160\n",
      "13     0.433754\n",
      "26     0.421632\n",
      "78     0.579502\n",
      "84     0.467933\n",
      "276    0.471641\n",
      "277    0.507579\n",
      "280    0.427669\n",
      "322    0.440219\n",
      "323    0.440219\n",
      "324    0.440219\n",
      "338    0.483525\n",
      "339    0.483525\n",
      "340    0.483525\n",
      "Name: DIS, dtype: float64\n",
      "0.479684212855197\n",
      "0.48\n"
     ]
    }
   ],
   "source": [
    "df_stdd = df_stdd[(df_stdd['DIS'] > 0.4) & (df_stdd['DIS'] < 0.6)] #inplace 는 drop 이나 reset_index 같은 것들에 적용..?\n",
    "print(df_stdd['DIS'])\n",
    "print(df_stdd['DIS']\n",
    "      .mean())\n",
    "print(round(df_stdd['DIS'].mean(),2))"
   ]
  },
  {
   "cell_type": "code",
   "execution_count": null,
   "metadata": {},
   "outputs": [],
   "source": []
  }
 ],
 "metadata": {
  "kernelspec": {
   "display_name": "Python 3",
   "language": "python",
   "name": "python3"
  },
  "language_info": {
   "codemirror_mode": {
    "name": "ipython",
    "version": 3
   },
   "file_extension": ".py",
   "mimetype": "text/x-python",
   "name": "python",
   "nbconvert_exporter": "python",
   "pygments_lexer": "ipython3",
   "version": "3.11.9"
  }
 },
 "nbformat": 4,
 "nbformat_minor": 2
}
