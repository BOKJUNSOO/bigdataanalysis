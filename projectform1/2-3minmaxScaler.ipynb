{
 "cells": [
  {
   "cell_type": "code",
   "execution_count": 1,
   "metadata": {},
   "outputs": [],
   "source": [
    "import pandas as pd\n",
    "df = pd.read_csv(r\"C:\\Users\\brian\\Desktop\\JUNSOO\\bigdata\\data\\boston.csv\")"
   ]
  },
  {
   "cell_type": "code",
   "execution_count": 2,
   "metadata": {},
   "outputs": [],
   "source": [
    "#문제3) boston 데이터 세트의 MEDV 칼럼을 최소최대 척도로 변환한 후 0.5 보다 큰 값을 가지는 레코드 수를 구하시오.\n",
    "\n",
    "from sklearn.preprocessing import MinMaxScaler"
   ]
  },
  {
   "cell_type": "code",
   "execution_count": null,
   "metadata": {},
   "outputs": [],
   "source": [
    "# 모델 객체를 생성한다. ==> 데이터 분석을 진행하면서 정보를 담을 박스(scaler)를 생성\n",
    "scaler = MinMaxScaler()\n",
    "df_minmax = scaler.fit_transform(df) #최대최소 척도로 변환됐음!\n",
    "print(type(df_minmax)) #numpy.ndarray 는 pandas 라이브러리로 가공 불가\n",
    "                       # 가공할 수 있는 데이터 프레임 타입으로 변환\n",
    "df_minmax = pd.DataFrame(df_minmax , columns = df.columns)\n",
    "print(df_minmax\n",
    "      .head(3))\n",
    "print(df_minmax['MEDV']\n",
    "      .describe())     # 최댓값은 1 최솟값은 0으로 변환됐음을 확인"
   ]
  },
  {
   "cell_type": "code",
   "execution_count": 10,
   "metadata": {},
   "outputs": [
    {
     "name": "stdout",
     "output_type": "stream",
     "text": [
      "count    506.000000\n",
      "mean       0.389618\n",
      "std        0.204380\n",
      "min        0.000000\n",
      "25%        0.267222\n",
      "50%        0.360000\n",
      "75%        0.444444\n",
      "max        1.000000\n",
      "Name: MEDV, dtype: float64\n"
     ]
    }
   ],
   "source": [
    "# 0.5 보다 큰 값을 가지는 레코드 확인\n",
    "print(df_minmax['MEDV']\n",
    "      .describe())"
   ]
  },
  {
   "cell_type": "code",
   "execution_count": 16,
   "metadata": {},
   "outputs": [
    {
     "name": "stdout",
     "output_type": "stream",
     "text": [
      "2      0.660000\n",
      "3      0.631111\n",
      "4      0.693333\n",
      "5      0.526667\n",
      "39     0.573333\n",
      "         ...   \n",
      "370    1.000000\n",
      "371    1.000000\n",
      "372    1.000000\n",
      "407    0.508889\n",
      "473    0.551111\n",
      "Name: MEDV, Length: 106, dtype: float64\n",
      "106\n"
     ]
    }
   ],
   "source": [
    "df_over5 = df_minmax[df_minmax['MEDV'] > 0.5]['MEDV'] #df[df['str']] << 데이터프레임에 대해 [[]] 의 의미 상기시키자~\n",
    "print(df_over5)\n",
    "print(df_over5\n",
    "      .count())                 # count 함수를 통해 해당 데이터셋의 row 수를 count()\n",
    "                                # 2-1 의 count 추가작업 참고~"
   ]
  }
 ],
 "metadata": {
  "kernelspec": {
   "display_name": "Python 3",
   "language": "python",
   "name": "python3"
  },
  "language_info": {
   "codemirror_mode": {
    "name": "ipython",
    "version": 3
   },
   "file_extension": ".py",
   "mimetype": "text/x-python",
   "name": "python",
   "nbconvert_exporter": "python",
   "pygments_lexer": "ipython3",
   "version": "3.11.9"
  }
 },
 "nbformat": 4,
 "nbformat_minor": 2
}
