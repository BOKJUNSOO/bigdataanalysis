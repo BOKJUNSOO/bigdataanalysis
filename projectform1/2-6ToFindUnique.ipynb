{
 "cells": [
  {
   "cell_type": "code",
   "execution_count": 1,
   "metadata": {},
   "outputs": [],
   "source": [
    "import pandas as pd\n",
    "df = pd.read_csv(r\"C:\\Users\\brian\\Desktop\\JUNSOO\\bigdata\\data\\boston.csv\")"
   ]
  },
  {
   "cell_type": "code",
   "execution_count": 2,
   "metadata": {},
   "outputs": [],
   "source": [
    "# 전체 칼럼에 대해서 중복을제거한 유니크한 값을 구한후,\n",
    "# 칼럼별로 유니크한 값의 개수를 기준으로 평균값을 구하시오."
   ]
  },
  {
   "cell_type": "code",
   "execution_count": 3,
   "metadata": {},
   "outputs": [
    {
     "name": "stdout",
     "output_type": "stream",
     "text": [
      "Index(['CRIM', 'ZN', 'INDUS', 'CHAS', 'NOX', 'RM', 'AGE', 'DIS', 'RAD', 'TAX',\n",
      "       'PTRATIO', 'B', 'LSTAT', 'MEDV'],\n",
      "      dtype='object')\n"
     ]
    }
   ],
   "source": [
    "print(df.columns)"
   ]
  },
  {
   "cell_type": "code",
   "execution_count": 6,
   "metadata": {},
   "outputs": [
    {
     "name": "stdout",
     "output_type": "stream",
     "text": [
      "<class 'pandas.core.indexes.base.Index'>\n",
      "14\n",
      "[0 1]\n"
     ]
    }
   ],
   "source": [
    "df_columns = df.columns     #index 데이터\n",
    "print(type(df_columns))\n",
    "print(df_columns.size)\n",
    "print(df['CHAS'].unique())\n",
    "df_chas = df['CHAS'] \n"
   ]
  },
  {
   "cell_type": "code",
   "execution_count": 23,
   "metadata": {},
   "outputs": [
    {
     "name": "stdout",
     "output_type": "stream",
     "text": [
      "[0 1]\n",
      "0    2\n",
      "dtype: int64\n",
      "2\n"
     ]
    },
    {
     "name": "stderr",
     "output_type": "stream",
     "text": [
      "C:\\Users\\brian\\AppData\\Local\\Temp\\ipykernel_6892\\1849213900.py:7: FutureWarning: Calling int on a single element Series is deprecated and will raise a TypeError in the future. Use int(ser.iloc[0]) instead\n",
      "  print(int(pd.DataFrame(df['CHAS']\n"
     ]
    }
   ],
   "source": [
    "df_chas = pd.DataFrame(df_chas , columns = df.columns)\n",
    "type(df_chas)\n",
    "print(df['CHAS'].unique()) #unique 함수는 특정 columns 에 대해서만 출력 가능\n",
    "print(pd.DataFrame(df['CHAS']\n",
    "                   .unique())\n",
    "                   .count()) #count 함수도 pd 에서 불러와야 함!!!!!!! 괄호 잘 확인할것\n",
    "print(int(pd.DataFrame(df['CHAS']\n",
    "                       .unique())\n",
    "                       .count())) #2라는 값만 추출하기 위해서"
   ]
  },
  {
   "cell_type": "code",
   "execution_count": null,
   "metadata": {},
   "outputs": [],
   "source": [
    "# 모든 칼럼에 대해서 주먹구구 식으로 값을 추출한다\n",
    "# 두번째 방법 존재!"
   ]
  }
 ],
 "metadata": {
  "kernelspec": {
   "display_name": "Python 3",
   "language": "python",
   "name": "python3"
  },
  "language_info": {
   "codemirror_mode": {
    "name": "ipython",
    "version": 3
   },
   "file_extension": ".py",
   "mimetype": "text/x-python",
   "name": "python",
   "nbconvert_exporter": "python",
   "pygments_lexer": "ipython3",
   "version": "3.11.9"
  }
 },
 "nbformat": 4,
 "nbformat_minor": 2
}
