{
 "cells": [
  {
   "cell_type": "code",
   "execution_count": 1,
   "metadata": {},
   "outputs": [],
   "source": [
    "import pandas as pd\n",
    "df = pd.read_csv(r\"C:\\Users\\brian\\Desktop\\JUNSOO\\bigdata\\data\\boston.csv\")\n"
   ]
  },
  {
   "cell_type": "code",
   "execution_count": 2,
   "metadata": {},
   "outputs": [],
   "source": [
    "#그룹별 집계 요약하기\n",
    "# 문제1) boston 데이터 세트의 tax 칼럼이 tax칼럼의 중위값보다 큰 데이터를 대상으로,\n",
    "#       CHAS 칼럼과 RAD칼럼 순으로 그룹을 지은 후 각 그룹의 데이터 개수를 구하시오.\n",
    "#       단, CHAS, RAD 칼럼별 데이터 개수는 COUNT 칼럼으로 출력합니다."
   ]
  },
  {
   "cell_type": "code",
   "execution_count": 3,
   "metadata": {},
   "outputs": [
    {
     "name": "stdout",
     "output_type": "stream",
     "text": [
      "330.0\n"
     ]
    }
   ],
   "source": [
    "tax_meadian = (df['TAX']\n",
    "               .median()\n",
    ")\n",
    "print(tax_meadian)"
   ]
  },
  {
   "cell_type": "code",
   "execution_count": 4,
   "metadata": {},
   "outputs": [
    {
     "name": "stdout",
     "output_type": "stream",
     "text": [
      "     CHAS  RAD\n",
      "54      0    3\n",
      "65      0    4\n",
      "66      0    4\n",
      "67      0    4\n",
      "68      0    4\n",
      "..    ...  ...\n",
      "496     0    6\n",
      "497     0    6\n",
      "498     0    6\n",
      "499     0    6\n",
      "500     0    6\n",
      "\n",
      "[250 rows x 2 columns]\n"
     ]
    }
   ],
   "source": [
    "print(df[df['TAX'] > 330 ][['CHAS' , 'RAD']]) #['CHAS'] OK // ['CHAS' , 'RAD'] NO! // [['CHAS' , 'RAD']] OK!\n",
    "new_df = df[df['TAX'] > tax_meadian][['CHAS' , 'RAD']]"
   ]
  },
  {
   "cell_type": "code",
   "execution_count": 5,
   "metadata": {},
   "outputs": [
    {
     "name": "stdout",
     "output_type": "stream",
     "text": [
      "[ 3  4  5  6  2  1 24] int64 [0 1]\n"
     ]
    }
   ],
   "source": [
    "print( new_df['RAD']\n",
    "      .unique()          #unique 함수는 특정 columns 에 대해서만 출력 가능\n",
    "      , new_df['RAD']\n",
    "      .dtype\n",
    "      , new_df['CHAS']\n",
    "      .unique() )"
   ]
  },
  {
   "cell_type": "code",
   "execution_count": 6,
   "metadata": {},
   "outputs": [
    {
     "name": "stdout",
     "output_type": "stream",
     "text": [
      "CHAS  RAD\n",
      "0     1        3\n",
      "      2        2\n",
      "      3        5\n",
      "      4       33\n",
      "      5       51\n",
      "      6       17\n",
      "      24     124\n",
      "1     5        7\n",
      "      24       8\n",
      "Name: RAD, dtype: int64\n"
     ]
    }
   ],
   "source": [
    "####***(복습꼭 할 것 + 책설명 pg 348~) 첫 조건을 만족하는 그룹을 대상으로 그룹을 지은후, groupby() + count() 이용\n",
    "new_df2 = (new_df\n",
    "           .groupby(['CHAS' , 'RAD'])  # 이 코드 줄 괄호 유의할것 351page groupby() 함수 문법!                                 \n",
    "           ['RAD']                     # (CHAS 와 RAD를 그룹짓는데)[RAD]의 .count갯수대로 그룹핑해줘\n",
    "           .count())                   # [['str1', 'str2']] << 데이터셋에서 특정할때! \n",
    "                                       # cf) count 는 추가작업! 그룹핑한 데이터에 대해 각 로우의 갯수 counting\n",
    "print(new_df2)"
   ]
  },
  {
   "cell_type": "code",
   "execution_count": 12,
   "metadata": {},
   "outputs": [
    {
     "name": "stdout",
     "output_type": "stream",
     "text": [
      "<class 'pandas.core.series.Series'>\n",
      "          COUNT\n",
      "CHAS RAD       \n",
      "0    1        3\n",
      "     2        2\n",
      "     3        5\n",
      "     4       33\n",
      "     5       51\n",
      "     6       17\n",
      "     24     124\n",
      "1    5        7\n",
      "     24       8\n"
     ]
    }
   ],
   "source": [
    "# 위의 결과에서 마지막 칼럼의 이름을 count 로 출력해야함\n",
    "print(type(new_df2))\n",
    "\n",
    "new_df3 = pd.DataFrame(new_df2) #series 데이터를 dataframe 으로 읽겠다/\n",
    "new_df3.columns = ['COUNT'] # 칼럼추가!\n",
    "print(new_df3)"
   ]
  },
  {
   "cell_type": "code",
   "execution_count": null,
   "metadata": {},
   "outputs": [],
   "source": []
  }
 ],
 "metadata": {
  "kernelspec": {
   "display_name": "Python 3",
   "language": "python",
   "name": "python3"
  },
  "language_info": {
   "codemirror_mode": {
    "name": "ipython",
    "version": 3
   },
   "file_extension": ".py",
   "mimetype": "text/x-python",
   "name": "python",
   "nbconvert_exporter": "python",
   "pygments_lexer": "ipython3",
   "version": "3.11.9"
  }
 },
 "nbformat": 4,
 "nbformat_minor": 2
}
