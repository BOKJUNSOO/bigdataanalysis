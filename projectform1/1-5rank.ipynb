{
 "cells": [
  {
   "cell_type": "code",
   "execution_count": 1,
   "metadata": {},
   "outputs": [],
   "source": [
    "import pandas as pd\n",
    "df = pd.read_csv(r\"C:\\Users\\brian\\Desktop\\JUNSOO\\bigdata\\data\\boston.csv\")"
   ]
  },
  {
   "cell_type": "code",
   "execution_count": null,
   "metadata": {},
   "outputs": [],
   "source": [
    "#문제5) boston 데이터 세트의 MEDV 칼럼을 기준으로 30번째로 큰 값을 1번@29번쨰로 큰 값에 적용한다.\n",
    "#그리고 MEDV 칼럼의 평균값, 중위값, 최솟값, 최댓값 순으로 한 줄에 출력하시오."
   ]
  },
  {
   "cell_type": "code",
   "execution_count": 6,
   "metadata": {},
   "outputs": [
    {
     "name": "stdout",
     "output_type": "stream",
     "text": [
      "283    50.0\n",
      "225    50.0\n",
      "369    50.0\n",
      "370    50.0\n",
      "371    50.0\n",
      "372    50.0\n",
      "186    50.0\n",
      "204    50.0\n",
      "257    50.0\n",
      "195    50.0\n",
      "166    50.0\n",
      "163    50.0\n",
      "267    50.0\n",
      "162    50.0\n",
      "161    50.0\n",
      "368    50.0\n",
      "262    48.8\n",
      "203    48.5\n",
      "233    48.3\n",
      "228    46.7\n",
      "282    46.0\n",
      "280    45.4\n",
      "224    44.8\n",
      "256    44.0\n",
      "98     43.8\n",
      "268    43.5\n",
      "261    43.1\n",
      "253    42.8\n",
      "202    42.3\n",
      "232    41.7\n",
      "Name: MEDV, dtype: float64\n"
     ]
    }
   ],
   "source": [
    "df_new = df['MEDV'].sort_values(ascending = False)\n",
    "print(df_new\n",
    "      .head(30))"
   ]
  },
  {
   "cell_type": "code",
   "execution_count": 14,
   "metadata": {},
   "outputs": [
    {
     "name": "stdout",
     "output_type": "stream",
     "text": [
      "283    41.7\n",
      "225    41.7\n",
      "369    41.7\n",
      "370    41.7\n",
      "371    41.7\n",
      "372    41.7\n",
      "186    41.7\n",
      "204    41.7\n",
      "257    41.7\n",
      "195    41.7\n",
      "166    41.7\n",
      "163    41.7\n",
      "267    41.7\n",
      "162    41.7\n",
      "161    41.7\n",
      "368    41.7\n",
      "262    41.7\n",
      "203    41.7\n",
      "233    41.7\n",
      "228    41.7\n",
      "282    41.7\n",
      "280    41.7\n",
      "224    41.7\n",
      "256    41.7\n",
      "98     41.7\n",
      "268    41.7\n",
      "261    41.7\n",
      "253    41.7\n",
      "202    41.7\n",
      "Name: MEDV, dtype: float64\n"
     ]
    }
   ],
   "source": [
    "#print(df_new\n",
    "#      .iloc[29]) #iloc[int] or iloc[[int,int]]\n",
    "#print(df_new\n",
    "#      .iloc[0:29])\n",
    "df_new.iloc[0:29] = 41.7 #fillna() 는 결측치를 채워넣을 수 있는 것!\n",
    "\n",
    "print(df_new[0:29])"
   ]
  },
  {
   "cell_type": "code",
   "execution_count": 17,
   "metadata": {},
   "outputs": [
    {
     "name": "stdout",
     "output_type": "stream",
     "text": [
      "22.1796442687747 21.2 41.7 5.0\n"
     ]
    }
   ],
   "source": [
    "print(df_new\n",
    "      .mean()\n",
    "      , df_new.median() , df_new.max() , df_new.min())"
   ]
  },
  {
   "cell_type": "code",
   "execution_count": null,
   "metadata": {},
   "outputs": [],
   "source": []
  }
 ],
 "metadata": {
  "kernelspec": {
   "display_name": "Python 3",
   "language": "python",
   "name": "python3"
  },
  "language_info": {
   "codemirror_mode": {
    "name": "ipython",
    "version": 3
   },
   "file_extension": ".py",
   "mimetype": "text/x-python",
   "name": "python",
   "nbconvert_exporter": "python",
   "pygments_lexer": "ipython3",
   "version": "3.11.9"
  }
 },
 "nbformat": 4,
 "nbformat_minor": 2
}
