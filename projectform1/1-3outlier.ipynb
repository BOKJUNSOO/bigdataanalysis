{
 "cells": [
  {
   "cell_type": "code",
   "execution_count": 1,
   "metadata": {},
   "outputs": [],
   "source": [
    "import pandas as pd\n",
    "df = pd.read_csv(r\"C:\\Users\\brian\\Desktop\\JUNSOO\\bigdata\\data\\boston.csv\")"
   ]
  },
  {
   "cell_type": "code",
   "execution_count": 4,
   "metadata": {},
   "outputs": [
    {
     "name": "stdout",
     "output_type": "stream",
     "text": [
      "11.363636363636363\n"
     ]
    }
   ],
   "source": [
    "# boston 데이터의 RM 칼럼에 ZN 칼럼을 대상으로 평균값에서 표준편차의 1.5배보다 크거나 작은 ZN값의 합계를 구하시오.\n",
    "zn_mean = df['ZN'].mean()\n",
    "print(zn_mean)"
   ]
  },
  {
   "cell_type": "code",
   "execution_count": null,
   "metadata": {},
   "outputs": [],
   "source": [
    "zn_std = (df['ZN']\n",
    "      .std())\n",
    "zn_max = zn_mean + (1.5 * zn_std)\n",
    "zn_min = zn_mean - (1.5 * zn_std)\n",
    "\n",
    "print(zn_std)\n",
    "print(zn_max)\n",
    "print(zn_min)\n",
    "print(df['ZN'] > zn_max) #zn_max 보다 큰지 여부의 확인 true or false\n",
    "print(df[df['ZN'] > zn_max]) #zn_max 보다 큰 값들만 확인하기[[]] << 바깥쪽 하나 더있으므로 데이터 셋을 특정함"
   ]
  },
  {
   "cell_type": "code",
   "execution_count": null,
   "metadata": {},
   "outputs": [],
   "source": [
    "zn_max2 = df[df['ZN'] > zn_max]['ZN'] # 마지막 ['ZN'] 왜 있을지 생각해보기, 없다면 모든 열이 다표현됨(앞에서도 있었던것 확인/오름차순에서)\n",
    "print(zn_max2)"
   ]
  },
  {
   "cell_type": "code",
   "execution_count": 30,
   "metadata": {},
   "outputs": [
    {
     "name": "stdout",
     "output_type": "stream",
     "text": [
      "Empty DataFrame\n",
      "Columns: [CRIM, ZN, INDUS, CHAS, NOX, RM, AGE, DIS, RAD, TAX, PTRATIO, B, LSTAT, MEDV]\n",
      "Index: []\n"
     ]
    }
   ],
   "source": [
    "print(df[df['ZN'] < zn_min]) # -1.5* 보다 작은 값은 없으므로 zn_max2의 값의 합"
   ]
  },
  {
   "cell_type": "code",
   "execution_count": 31,
   "metadata": {},
   "outputs": [
    {
     "name": "stdout",
     "output_type": "stream",
     "text": [
      "3462.5\n"
     ]
    }
   ],
   "source": [
    "print(sum(zn_max2))"
   ]
  }
 ],
 "metadata": {
  "kernelspec": {
   "display_name": "Python 3",
   "language": "python",
   "name": "python3"
  },
  "language_info": {
   "codemirror_mode": {
    "name": "ipython",
    "version": 3
   },
   "file_extension": ".py",
   "mimetype": "text/x-python",
   "name": "python",
   "nbconvert_exporter": "python",
   "pygments_lexer": "ipython3",
   "version": "3.11.9"
  }
 },
 "nbformat": 4,
 "nbformat_minor": 2
}
