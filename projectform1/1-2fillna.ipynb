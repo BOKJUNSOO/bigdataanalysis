{
 "cells": [
  {
   "cell_type": "code",
   "execution_count": 1,
   "metadata": {},
   "outputs": [],
   "source": [
    "import pandas as pd\n",
    "df = pd.read_csv(r\"C:\\Users\\brian\\Desktop\\JUNSOO\\bigdata\\data\\boston.csv\")"
   ]
  },
  {
   "cell_type": "code",
   "execution_count": 2,
   "metadata": {},
   "outputs": [
    {
     "name": "stdout",
     "output_type": "stream",
     "text": [
      "CRIM        0\n",
      "ZN          0\n",
      "INDUS       0\n",
      "CHAS        0\n",
      "NOX         0\n",
      "RM         15\n",
      "AGE         0\n",
      "DIS         0\n",
      "RAD         0\n",
      "TAX         0\n",
      "PTRATIO     0\n",
      "B           0\n",
      "LSTAT       0\n",
      "MEDV        0\n",
      "dtype: int64\n"
     ]
    }
   ],
   "source": [
    "# boston 데이터 세트의 RM 컬럼에 대한 결측치를 평균값과 삭제했을 경우 각각의 표준편차의 차이를 양수값으로 나타내시오.\n",
    "print(df\n",
    "      .isnull()\n",
    "      .sum())"
   ]
  },
  {
   "cell_type": "code",
   "execution_count": 12,
   "metadata": {},
   "outputs": [
    {
     "name": "stdout",
     "output_type": "stream",
     "text": [
      "6.285101832993889\n",
      "0\n"
     ]
    }
   ],
   "source": [
    "#데이터 프레임 추출해서 무조건 copy() 해 놓을것, 평균으로 대치와 결측치 row 를 삭제해야함\n",
    "df_mean = df['RM'].copy()\n",
    "\n",
    "rm_mean = (df_mean\n",
    "           .mean())\n",
    "print(rm_mean)\n",
    "\n",
    "df_mean = (df_mean\n",
    "           .fillna(rm_mean)) #데이터프레임은 앞으로 이것이다! 라고 변수지정처럼 한것\n",
    "# 또 다른 방식으로 작용할 수 있는 코드\n",
    "df_mean.fillna(rm_mean , inplace = True ) # inplace = True 입력하면 위에 코드와 같은 효과 + inplace = False 는 단순 확인\n",
    "                                          # 위와 다르게 이 코드는 입력을 진행하겠다\n",
    "                                          # fillna 의 parameter 변수 , 'inplace'\n",
    "\n",
    "print(df_mean\n",
    "      .isnull()\n",
    "      .sum())"
   ]
  },
  {
   "cell_type": "code",
   "execution_count": 23,
   "metadata": {},
   "outputs": [
    {
     "name": "stdout",
     "output_type": "stream",
     "text": [
      "15\n",
      "0\n",
      "(491,)\n"
     ]
    }
   ],
   "source": [
    "#데이터 프레임 저장 결측치 삭제\n",
    "\n",
    "df_del = df['RM'].copy()\n",
    "print(df_del\n",
    "      .isnull()\n",
    "      .sum())\n",
    "\n",
    "rm_del = (df_del\n",
    "          .dropna()) \n",
    "# or\n",
    "\n",
    "df_del.dropna(inplace = True) #위 fillna와 같은 논리임\n",
    "\n",
    "print(rm_del\n",
    "      .isnull()\n",
    "      .sum())\n",
    "print(rm_del\n",
    "      .shape)"
   ]
  },
  {
   "cell_type": "code",
   "execution_count": 25,
   "metadata": {},
   "outputs": [
    {
     "name": "stdout",
     "output_type": "stream",
     "text": [
      "0.6975001826300912\n",
      "0.7080957287241957\n",
      "0.010595546094104513\n"
     ]
    }
   ],
   "source": [
    "#표준편차 구하기\n",
    "print(df_mean\n",
    "      .std())\n",
    "\n",
    "print(rm_del\n",
    "      .std())\n",
    "\n",
    "print(abs(df_mean.std() - rm_del.std()))"
   ]
  }
 ],
 "metadata": {
  "kernelspec": {
   "display_name": "Python 3",
   "language": "python",
   "name": "python3"
  },
  "language_info": {
   "codemirror_mode": {
    "name": "ipython",
    "version": 3
   },
   "file_extension": ".py",
   "mimetype": "text/x-python",
   "name": "python",
   "nbconvert_exporter": "python",
   "pygments_lexer": "ipython3",
   "version": "3.11.9"
  }
 },
 "nbformat": 4,
 "nbformat_minor": 2
}
