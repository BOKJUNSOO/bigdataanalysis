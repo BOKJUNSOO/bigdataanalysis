{
 "cells": [
  {
   "cell_type": "code",
   "execution_count": 1,
   "metadata": {},
   "outputs": [],
   "source": [
    "import pandas as pd\n",
    "x_train = pd.read_csv(r\"C:\\Users\\brian\\Desktop\\JUNSOO\\bigdata\\data\\x_train.csv\" , encoding='cp949')\n",
    "x_test = pd.read_csv(r\"C:\\Users\\brian\\Desktop\\JUNSOO\\bigdata\\data\\x_test.csv\" , encoding='cp949')\n",
    "y_train = pd.read_csv(r\"C:\\Users\\brian\\Desktop\\JUNSOO\\bigdata\\data\\y_train.csv\" , encoding='cp949')\n"
   ]
  },
  {
   "cell_type": "code",
   "execution_count": 2,
   "metadata": {},
   "outputs": [
    {
     "name": "stdout",
     "output_type": "stream",
     "text": [
      "       총구매액     최대구매액       환불금액   주구매상품 주구매지점  내점일수   내점당구매건수    주말방문비율  구매주기\n",
      "0  68282840  11264000  6860000.0      기타   강남점    19  3.894737  0.527027    17\n",
      "1   2136000   2136000   300000.0     스포츠   잠실점     2  1.500000  0.000000     1\n",
      "2   3197000   1639000        NaN  남성 캐주얼   관악점     2  2.000000  0.000000     1\n",
      "3  16077620   4935000        NaN      기타   광주점    18  2.444444  0.318182    16\n",
      "4  29050000  24000000        NaN      보석  본  점     2  1.500000  0.000000    85\n"
     ]
    }
   ],
   "source": [
    "#필요없는 칼럼 지우기 \n",
    "x_test_cust_id = x_test['cust_id'] #제출용 코드에는 cust id 필요 \n",
    "\n",
    "x_test.drop(columns = ['cust_id'] , inplace = True)\n",
    "x_train.drop(columns = ['cust_id'] , inplace = True)\n",
    "y_train.drop(columns = ['cust_id'] , inplace = True)\n",
    "\n",
    "#or 변수지정 ! (inplace 적용함수 : .drop , .fillna , .dropna , reset_index\n",
    "#                               : sort_value 는 by 와 acending 만 ! inplace는 ... 흠)\n",
    "\n",
    "print(x_train.head())"
   ]
  },
  {
   "cell_type": "code",
   "execution_count": 3,
   "metadata": {},
   "outputs": [
    {
     "name": "stderr",
     "output_type": "stream",
     "text": [
      "C:\\Users\\brian\\AppData\\Local\\Temp\\ipykernel_21424\\3640737384.py:6: FutureWarning: A value is trying to be set on a copy of a DataFrame or Series through chained assignment using an inplace method.\n",
      "The behavior will change in pandas 3.0. This inplace method will never work because the intermediate object on which we are setting values always behaves as a copy.\n",
      "\n",
      "For example, when doing 'df[col].method(value, inplace=True)', try using 'df.method({col: value}, inplace=True)' or df[col] = df[col].method(value) instead, to perform the operation inplace on the original object.\n",
      "\n",
      "\n",
      "  (x_test['환불금액'].fillna(0 , inplace = True))\n"
     ]
    }
   ],
   "source": [
    "# 결측치 처리\n",
    "#x_test 환불금액 \n",
    "#x_train 환불금액 결측치 존재\n",
    "\n",
    "# fillna parameter 이용 or 데이터 시리즈 새로 정의\n",
    "(x_test['환불금액'].fillna(0 , inplace = True))\n",
    "x_train['환불금액'] = (x_train['환불금액']\n",
    "                   .fillna(0))\n",
    "\n"
   ]
  },
  {
   "cell_type": "code",
   "execution_count": 4,
   "metadata": {},
   "outputs": [
    {
     "name": "stdout",
     "output_type": "stream",
     "text": [
      "24\n",
      "41\n",
      "0     5\n",
      "1    21\n",
      "2     6\n",
      "3     5\n",
      "4    15\n",
      "5    11\n",
      "6    22\n",
      "7    13\n",
      "8     5\n",
      "9     9\n",
      "Name: 주구매상품, dtype: int32\n",
      "0     3\n",
      "1     9\n",
      "2     0\n",
      "3    31\n",
      "4    19\n",
      "5    40\n",
      "6     5\n",
      "7    20\n",
      "8    40\n",
      "9     0\n",
      "Name: 주구매상품, dtype: int32\n",
      "['강남점' '관악점' '광주점' '노원점' '대구점' '대전점' '동래점' '미아점' '본  점' '부산본점' '부평점' '분당점'\n",
      " '상인점' '센텀시티점' '안양점' '영등포점' '울산점' '인천점' '일산점' '잠실점' '전주점' '창원점' '청량리점'\n",
      " '포항점']\n"
     ]
    }
   ],
   "source": [
    "#범주형 변수를 인코딩하기\n",
    "#print(x_train['주구매상품'].unique())\n",
    "print(len(x_train['주구매지점'].unique())\n",
    "      , (len(x_test['주구매상품'].unique()))\n",
    "      ,sep = '\\n')\n",
    "\n",
    "# 원핫 인코딩을 한다면, 65개의 칼럼 생성됨. --> 라벨인코딩이 효율적!\n",
    "\n",
    "from sklearn.preprocessing import LabelEncoder\n",
    "encoder = LabelEncoder()\n",
    "\n",
    "#train 데이터에 대해 라벨인코딩\n",
    "x_train['주구매상품'] = encoder.fit_transform(x_train['주구매상품'])\n",
    "print(x_train['주구매상품'].head(10))\n",
    "\n",
    "#test 데이터에 대해 라벨인코딩\n",
    "x_test['주구매상품'] = encoder.fit_transform(x_test['주구매상품'])\n",
    "print(x_test['주구매상품'].head(10))\n",
    "\n",
    "#train 및 test 데이터에 대해 라벨인코딩 - 주구매지점\n",
    "x_train['주구매지점'] = encoder.fit_transform(x_train['주구매지점'])\n",
    "x_test['주구매지점'] = encoder.fit_transform(x_test['주구매지점'])\n",
    "\n",
    "print(encoder.classes_)"
   ]
  },
  {
   "cell_type": "code",
   "execution_count": 5,
   "metadata": {},
   "outputs": [
    {
     "name": "stdout",
     "output_type": "stream",
     "text": [
      "           환불금액  환불금액_new\n",
      "0     6860000.0       1.0\n",
      "1      300000.0       1.0\n",
      "2           0.0       0.0\n",
      "3           0.0       0.0\n",
      "4           0.0       0.0\n",
      "...         ...       ...\n",
      "3495        0.0       0.0\n",
      "3496  6049600.0       1.0\n",
      "3497        0.0       0.0\n",
      "3498        0.0       0.0\n",
      "3499  5973000.0       1.0\n",
      "\n",
      "[3500 rows x 2 columns]\n"
     ]
    },
    {
     "data": {
      "text/html": [
       "<div>\n",
       "<style scoped>\n",
       "    .dataframe tbody tr th:only-of-type {\n",
       "        vertical-align: middle;\n",
       "    }\n",
       "\n",
       "    .dataframe tbody tr th {\n",
       "        vertical-align: top;\n",
       "    }\n",
       "\n",
       "    .dataframe thead th {\n",
       "        text-align: right;\n",
       "    }\n",
       "</style>\n",
       "<table border=\"1\" class=\"dataframe\">\n",
       "  <thead>\n",
       "    <tr style=\"text-align: right;\">\n",
       "      <th></th>\n",
       "      <th>총구매액</th>\n",
       "      <th>최대구매액</th>\n",
       "      <th>주구매상품</th>\n",
       "      <th>주구매지점</th>\n",
       "      <th>내점일수</th>\n",
       "      <th>내점당구매건수</th>\n",
       "      <th>주말방문비율</th>\n",
       "      <th>구매주기</th>\n",
       "      <th>환불금액_new</th>\n",
       "    </tr>\n",
       "  </thead>\n",
       "  <tbody>\n",
       "    <tr>\n",
       "      <th>0</th>\n",
       "      <td>68282840</td>\n",
       "      <td>11264000</td>\n",
       "      <td>5</td>\n",
       "      <td>0</td>\n",
       "      <td>19</td>\n",
       "      <td>3.894737</td>\n",
       "      <td>0.527027</td>\n",
       "      <td>17</td>\n",
       "      <td>1.0</td>\n",
       "    </tr>\n",
       "    <tr>\n",
       "      <th>1</th>\n",
       "      <td>2136000</td>\n",
       "      <td>2136000</td>\n",
       "      <td>21</td>\n",
       "      <td>19</td>\n",
       "      <td>2</td>\n",
       "      <td>1.500000</td>\n",
       "      <td>0.000000</td>\n",
       "      <td>1</td>\n",
       "      <td>1.0</td>\n",
       "    </tr>\n",
       "    <tr>\n",
       "      <th>2</th>\n",
       "      <td>3197000</td>\n",
       "      <td>1639000</td>\n",
       "      <td>6</td>\n",
       "      <td>1</td>\n",
       "      <td>2</td>\n",
       "      <td>2.000000</td>\n",
       "      <td>0.000000</td>\n",
       "      <td>1</td>\n",
       "      <td>0.0</td>\n",
       "    </tr>\n",
       "    <tr>\n",
       "      <th>3</th>\n",
       "      <td>16077620</td>\n",
       "      <td>4935000</td>\n",
       "      <td>5</td>\n",
       "      <td>2</td>\n",
       "      <td>18</td>\n",
       "      <td>2.444444</td>\n",
       "      <td>0.318182</td>\n",
       "      <td>16</td>\n",
       "      <td>0.0</td>\n",
       "    </tr>\n",
       "    <tr>\n",
       "      <th>4</th>\n",
       "      <td>29050000</td>\n",
       "      <td>24000000</td>\n",
       "      <td>15</td>\n",
       "      <td>8</td>\n",
       "      <td>2</td>\n",
       "      <td>1.500000</td>\n",
       "      <td>0.000000</td>\n",
       "      <td>85</td>\n",
       "      <td>0.0</td>\n",
       "    </tr>\n",
       "  </tbody>\n",
       "</table>\n",
       "</div>"
      ],
      "text/plain": [
       "       총구매액     최대구매액  주구매상품  주구매지점  내점일수   내점당구매건수    주말방문비율  구매주기  환불금액_new\n",
       "0  68282840  11264000      5      0    19  3.894737  0.527027    17       1.0\n",
       "1   2136000   2136000     21     19     2  1.500000  0.000000     1       1.0\n",
       "2   3197000   1639000      6      1     2  2.000000  0.000000     1       0.0\n",
       "3  16077620   4935000      5      2    18  2.444444  0.318182    16       0.0\n",
       "4  29050000  24000000     15      8     2  1.500000  0.000000    85       0.0"
      ]
     },
     "execution_count": 5,
     "metadata": {},
     "output_type": "execute_result"
    }
   ],
   "source": [
    "# 파생변수 만들기\n",
    "# 환불금액이 0보다 크면 1 0과 같으면 0 으로 조건문 지정\n",
    "condition = x_train['환불금액'] > 0\n",
    "\n",
    "# condtion 변수를 사용하여 새로운 칼럼 형성 \n",
    "x_train.loc[condition , '환불금액_new'] = 1\n",
    "x_train.loc[~condition, '환불금액_new'] = 0\n",
    "print(x_train[['환불금액' , '환불금액_new']]) # cf) .drop(columns = []) << [] 하나만 이용해도 된다. 안써도 된다?\n",
    "\n",
    "# condition 이 잘 작동하므로 기존 칼럼 삭제\n",
    "\n",
    "x_train.drop(columns = '환불금액' , inplace = True) ## 이미 수행된 결과로 인해 한번더 실행이 안됨 // 변수를 새로 저장?\n",
    "x_train.head()\n"
   ]
  },
  {
   "cell_type": "code",
   "execution_count": 6,
   "metadata": {},
   "outputs": [
    {
     "name": "stdout",
     "output_type": "stream",
     "text": [
      "            환불금액  환불금액_new\n",
      "0      4050000.0       1.0\n",
      "1     48034700.0       1.0\n",
      "2     30521000.0       1.0\n",
      "3            0.0       0.0\n",
      "4            0.0       0.0\n",
      "...          ...       ...\n",
      "2477         0.0       0.0\n",
      "2478         0.0       0.0\n",
      "2479         0.0       0.0\n",
      "2480         0.0       0.0\n",
      "2481         0.0       0.0\n",
      "\n",
      "[2482 rows x 2 columns]\n"
     ]
    }
   ],
   "source": [
    "\n",
    "# test 데이터셋도 똑같이 삭제\n",
    "condition = x_test['환불금액'] > 0 \n",
    "x_test.loc[condition, '환불금액_new'] = 1\n",
    "x_test.loc[~condition, '환불금액_new'] = 0\n",
    "\n",
    "print(x_test[['환불금액', '환불금액_new']])\n",
    "\n",
    "x_test.drop(columns = '환불금액' , inplace = True)\n",
    "\n"
   ]
  },
  {
   "cell_type": "code",
   "execution_count": 7,
   "metadata": {},
   "outputs": [
    {
     "name": "stdout",
     "output_type": "stream",
     "text": [
      "<class 'pandas.core.frame.DataFrame'>\n",
      "RangeIndex: 2482 entries, 0 to 2481\n",
      "Data columns (total 9 columns):\n",
      " #   Column    Non-Null Count  Dtype  \n",
      "---  ------    --------------  -----  \n",
      " 0   총구매액      2482 non-null   int64  \n",
      " 1   최대구매액     2482 non-null   int64  \n",
      " 2   주구매상품     2482 non-null   int32  \n",
      " 3   주구매지점     2482 non-null   int32  \n",
      " 4   내점일수      2482 non-null   int64  \n",
      " 5   내점당구매건수   2482 non-null   float64\n",
      " 6   주말방문비율    2482 non-null   float64\n",
      " 7   구매주기      2482 non-null   int64  \n",
      " 8   환불금액_new  2482 non-null   float64\n",
      "dtypes: float64(3), int32(2), int64(4)\n",
      "memory usage: 155.3 KB\n"
     ]
    }
   ],
   "source": [
    "x_test.info()"
   ]
  },
  {
   "cell_type": "code",
   "execution_count": 8,
   "metadata": {},
   "outputs": [
    {
     "name": "stdout",
     "output_type": "stream",
     "text": [
      "           count          mean           std         min           25%  \\\n",
      "총구매액      3500.0  9.191925e+07  1.635065e+08 -52421520.0  4.747050e+06   \n",
      "최대구매액     3500.0  1.966424e+07  3.199235e+07  -2992000.0  2.875000e+06   \n",
      "주구매상품     3500.0  1.461200e+01  1.301995e+01         0.0  5.000000e+00   \n",
      "주구매지점     3500.0  1.073429e+01  5.636480e+00         0.0  8.000000e+00   \n",
      "내점일수      3500.0  1.925371e+01  2.717494e+01         1.0  2.000000e+00   \n",
      "내점당구매건수   3500.0  2.834963e+00  1.912368e+00         1.0  1.666667e+00   \n",
      "주말방문비율    3500.0  3.072463e-01  2.897516e-01         0.0  2.729090e-02   \n",
      "구매주기      3500.0  2.095829e+01  2.474868e+01         0.0  4.000000e+00   \n",
      "환불금액_new  3500.0  3.442857e-01  4.752027e-01         0.0  0.000000e+00   \n",
      "\n",
      "                   50%           75%           max  \n",
      "총구매액      2.822270e+07  1.065079e+08  2.323180e+09  \n",
      "최대구매액     9.837000e+06  2.296250e+07  7.066290e+08  \n",
      "주구매상품     9.000000e+00  2.200000e+01  4.100000e+01  \n",
      "주구매지점     9.000000e+00  1.500000e+01  2.300000e+01  \n",
      "내점일수      8.000000e+00  2.500000e+01  2.850000e+02  \n",
      "내점당구매건수   2.333333e+00  3.375000e+00  2.208333e+01  \n",
      "주말방문비율    2.564103e-01  4.489796e-01  1.000000e+00  \n",
      "구매주기      1.300000e+01  2.800000e+01  1.660000e+02  \n",
      "환불금액_new  0.000000e+00  1.000000e+00  1.000000e+00  \n",
      "           count          mean       std       min       25%       50%  \\\n",
      "총구매액      3500.0 -3.349701e-17  1.000143 -0.882909 -0.533218 -0.389621   \n",
      "최대구매액     3500.0 -4.263256e-17  1.000143 -0.708278 -0.524864 -0.307219   \n",
      "주구매상품     3500.0 -6.090366e-17  1.000143 -1.122438 -0.738357 -0.431093   \n",
      "주구매지점     3500.0 -8.767590e-17  1.000143 -1.904703 -0.485175 -0.307733   \n",
      "내점일수      3500.0  4.669281e-17  1.000143 -0.671807 -0.635003 -0.414180   \n",
      "내점당구매건수   3500.0 -2.618858e-16  1.000143 -0.959661 -0.611003 -0.262346   \n",
      "주말방문비율    3500.0  7.917476e-17  1.000143 -1.060530 -0.966329 -0.175472   \n",
      "구매주기      3500.0 -4.263256e-17  1.000143 -0.846966 -0.685318 -0.321610   \n",
      "환불금액_new  3500.0  1.218073e-17  1.000143 -0.724606 -0.724606 -0.724606   \n",
      "\n",
      "               75%        max  \n",
      "총구매액      0.089237  13.648260  \n",
      "최대구매액     0.103110  21.475852  \n",
      "주구매상품     0.567518   2.027026  \n",
      "주구매지점     0.756913   2.176441  \n",
      "내점일수      0.211486   9.780490  \n",
      "내점당구매건수   0.282432  10.066639  \n",
      "주말방문비율    0.489224   2.391196  \n",
      "구매주기      0.284570   5.861421  \n",
      "환불금액_new  1.380060   1.380060  \n"
     ]
    }
   ],
   "source": [
    "# 표준화 크기로 변환하기\n",
    "# Data Scaling\n",
    "print(x_train.describe().T)\n",
    "\n",
    "# 표준화 크기변환 라이브러리\n",
    "\n",
    "from sklearn.preprocessing import StandardScaler\n",
    "scaler = StandardScaler() #scaler 객체생성\n",
    "\n",
    "x_train = pd.DataFrame(scaler.fit_transform(x_train), columns = x_train.columns) # scler 객체로 표준화 크기변환을 수행, x_train 칼럼명이용\n",
    "x_test = pd.DataFrame(scaler.fit_transform(x_test), columns = x_test.columns)\n",
    "\n",
    "print(x_train.describe().T)"
   ]
  },
  {
   "cell_type": "code",
   "execution_count": 9,
   "metadata": {},
   "outputs": [
    {
     "name": "stdout",
     "output_type": "stream",
     "text": [
      "              총구매액     최대구매액  환불금액_new\n",
      "총구매액      1.000000  0.700080  0.403357\n",
      "최대구매액     0.700080  1.000000  0.330687\n",
      "환불금액_new  0.403357  0.330687  1.000000\n"
     ]
    }
   ],
   "source": [
    "# 상관관계 확인하기 (다중공산성의 문제 해결!)\n",
    "# 금액이라는 의미가 포함된 칼럼중 상관관계가 높은 칼럼은 삭제할 것 \n",
    "# ==> 상관계수가 0.6 이상이면 강한 상관관계\n",
    "\n",
    "print(x_train[['총구매액','최대구매액','환불금액_new']].corr())\n",
    "x_train = (x_train\n",
    "           .drop(columns = '최대구매액'))\n",
    "x_test.drop(columns = '최대구매액' , inplace = True)\n"
   ]
  },
  {
   "cell_type": "code",
   "execution_count": 13,
   "metadata": {},
   "outputs": [
    {
     "name": "stdout",
     "output_type": "stream",
     "text": [
      "   0\n",
      "0  1\n",
      "1  0\n",
      "2  0\n"
     ]
    }
   ],
   "source": [
    "#1.3 학습하고 평가하기\n",
    "# 종속변수인 '성별' 칼럼을 분류하는 모델 // 의사결정나무 분류기를 활용\n",
    "\n",
    "from sklearn.tree import DecisionTreeClassifier\n",
    "model = DecisionTreeClassifier()    #model 객체 생성\n",
    "model.fit(x_train, y_train)         #train set 으로 model 학습시키기\n",
    "                                    #valueerror: number of labels=3500 does not match number of samples=2482\n",
    "                                    # --> 독립변수와 종속변수의 라벨수가 다르다는 에러.. 처음 csv 읽을때 파일 잘못 가져옴!\n",
    "\n",
    "y_test_predicted = model.predict(x_test)    #학습된 model을 활용하여 테스트 데이터의 종속변수를 예측하기\n",
    "type(y_test_predicted)                      #dataframe 으로 타입을 변경할것\n",
    "print(pd.DataFrame(y_test_predicted).head(3))\n"
   ]
  },
  {
   "cell_type": "code",
   "execution_count": null,
   "metadata": {},
   "outputs": [],
   "source": [
    "# 정확한 성능을 가진 모델을 만들려면 추가적인 정보를 입력해야함.\n",
    "# 사람이 직접 추가정보를 전달하여 모델의 성능을 높임"
   ]
  }
 ],
 "metadata": {
  "kernelspec": {
   "display_name": "Python 3",
   "language": "python",
   "name": "python3"
  },
  "language_info": {
   "codemirror_mode": {
    "name": "ipython",
    "version": 3
   },
   "file_extension": ".py",
   "mimetype": "text/x-python",
   "name": "python",
   "nbconvert_exporter": "python",
   "pygments_lexer": "ipython3",
   "version": "3.11.9"
  }
 },
 "nbformat": 4,
 "nbformat_minor": 2
}
